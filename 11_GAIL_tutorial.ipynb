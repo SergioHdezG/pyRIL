{
 "cells": [
  {
   "cell_type": "code",
   "execution_count": null,
   "id": "55200d96",
   "metadata": {},
   "outputs": [],
   "source": [
    "import tensorflow as tf\n",
    "physical_devices = tf.config.experimental.list_physical_devices('GPU')\n",
    "assert len(physical_devices) > 0, \"Not enough GPU hardware devices available\"\n",
    "config = tf.config.experimental.set_memory_growth(physical_devices[0], True)"
   ]
  },
  {
   "cell_type": "code",
   "execution_count": null,
   "id": "a3a76c60",
   "metadata": {},
   "outputs": [],
   "source": [
    "import gym\n",
    "from gym.utils import play\n",
    "from IL_Problem.base.utils.callbacks import Callbacks, load_expert_memories\n",
    "from RL_Agent import dddqn_agent, ppo_agent_discrete_parallel\n",
    "from RL_Agent.base.utils.networks import networks\n",
    "from IL_Problem.base.utils.networks import networks_dictionaries as il_networks\n",
    "from RL_Problem import rl_problem as rl_p\n",
    "from IL_Problem.deepirl import DeepIRL\n",
    "from IL_Problem.gail import GAIL\n",
    "from tensorflow.keras.models import Model, Sequential\n",
    "from tensorflow.keras.layers import Dense, Conv2D, Flatten, Input, MaxPooling2D\n",
    "import numpy as np"
   ]
  },
  {
   "cell_type": "code",
   "execution_count": null,
   "id": "cb165437",
   "metadata": {},
   "outputs": [],
   "source": [
    "env_name =\"SpaceInvaders-v0\"\n",
    "env = gym.make(env_name)"
   ]
  },
  {
   "cell_type": "code",
   "execution_count": null,
   "id": "a5563553",
   "metadata": {},
   "outputs": [],
   "source": [
    "cb = Callbacks()"
   ]
  },
  {
   "cell_type": "code",
   "execution_count": null,
   "id": "878d8170",
   "metadata": {},
   "outputs": [],
   "source": [
    "play.play(env, zoom=3, callback=cb.remember_callback)"
   ]
  },
  {
   "cell_type": "code",
   "execution_count": null,
   "id": "b135f953",
   "metadata": {},
   "outputs": [],
   "source": [
    "exp_path = \"expert_demonstrations/SpaceInvaders_expert.pkl\"\n",
    "cb.save_memories(exp_path)"
   ]
  },
  {
   "cell_type": "code",
   "execution_count": null,
   "id": "431ce6ae",
   "metadata": {},
   "outputs": [],
   "source": [
    "# Función para preprocesar las imágenes\n",
    "def atari_preprocess(obs):\n",
    "    # Crop and resize the image\n",
    "    obs = obs[20:200:2, ::2]\n",
    "\n",
    "    # Convert the image to greyscale\n",
    "    obs = obs.mean(axis=2)\n",
    "\n",
    "    # normalize between from 0 to 1\n",
    "    obs = obs / 255.\n",
    "    obs = obs[:, :, np.newaxis]\n",
    "    return obs"
   ]
  },
  {
   "cell_type": "code",
   "execution_count": null,
   "id": "bff0f692",
   "metadata": {},
   "outputs": [],
   "source": [
    "# Guardamos las dimensiones del estado una vez preprocesado, es necesario que el tercer eje marque el número de canales\n",
    "state_size = (90, 80, 1)"
   ]
  },
  {
   "cell_type": "code",
   "execution_count": null,
   "id": "8b4eed2d",
   "metadata": {},
   "outputs": [],
   "source": [
    "net_architecture = networks.ppo_net(actor_conv_layers=2,\n",
    "                                    actor_kernel_num=[8, 8],\n",
    "                                    actor_kernel_size=[3, 3],\n",
    "                                    actor_kernel_strides=[2, 2],\n",
    "                                    actor_conv_activation=['relu', 'relu'],\n",
    "                                    actor_dense_layers=2,\n",
    "                                    actor_n_neurons=[128, 128],\n",
    "                                    actor_dense_activation=['relu', 'relu'],\n",
    "\n",
    "                                    critic_conv_layers=2,\n",
    "                                    critic_kernel_num=[8, 8],\n",
    "                                    critic_kernel_size=[3, 3],\n",
    "                                    critic_kernel_strides=[2, 2],\n",
    "                                    critic_conv_activation=['relu', 'relu'],\n",
    "                                    critic_dense_layers=2,\n",
    "                                    critic_n_neurons=[128, 128],\n",
    "                                    critic_dense_activation=['relu', 'relu'],\n",
    "                                    use_custom_network=False)"
   ]
  },
  {
   "cell_type": "code",
   "execution_count": null,
   "id": "f078fdbb",
   "metadata": {},
   "outputs": [],
   "source": [
    "agent = ppo_agent_discrete_parallel.Agent(actor_lr=1e-4,\n",
    "                                              critic_lr=1e-4,\n",
    "                                              batch_size=128,\n",
    "                                              epsilon=0.9,\n",
    "                                              epsilon_decay=0.97,\n",
    "                                              epsilon_min=0.15,\n",
    "                                              memory_size=128,\n",
    "                                              net_architecture=net_architecture,\n",
    "                                              n_stack=5,\n",
    "                                              img_input=True,\n",
    "                                              state_size=(90, 80, 1)\n",
    "                                              )"
   ]
  },
  {
   "cell_type": "code",
   "execution_count": null,
   "id": "60600ad6",
   "metadata": {},
   "outputs": [],
   "source": [
    "rl_problem = rl_p.Problem(env, agent)\n",
    "rl_problem.preprocess = atari_preprocess"
   ]
  },
  {
   "cell_type": "code",
   "execution_count": null,
   "id": "bbfb6ad6",
   "metadata": {},
   "outputs": [],
   "source": [
    "use_expert_actions = True\n",
    "discriminator_stack = 5\n",
    "exp_memory = load_expert_memories(exp_path, load_action=use_expert_actions, n_stack=discriminator_stack)"
   ]
  },
  {
   "cell_type": "code",
   "execution_count": null,
   "id": "31a434fb",
   "metadata": {},
   "outputs": [],
   "source": [
    "def one_layer_custom_model(input_shape):\n",
    "    x_input = Input(shape=input_shape, name='disc_common_input')\n",
    "    x = Dense(128, activation='relu')(x_input)\n",
    "    x = Dense(128, activation='relu')(x)\n",
    "    x = Dense(1, activation='sigmoid')(x)\n",
    "    model = Model(inputs=x_input, outputs=x)\n",
    "    return model\n"
   ]
  },
  {
   "cell_type": "code",
   "execution_count": null,
   "id": "7f15020a",
   "metadata": {},
   "outputs": [],
   "source": [
    "irl_net_architecture = il_networks.irl_discriminator_net(use_custom_network=True,\n",
    "                                                         state_custom_network=None,\n",
    "                                                         common_custom_network=one_layer_custom_model,\n",
    "                                                         define_custom_output_layer=False)"
   ]
  },
  {
   "cell_type": "code",
   "execution_count": null,
   "id": "bec5900c",
   "metadata": {},
   "outputs": [],
   "source": [
    "irl_problem = GAIL(rl_problem, exp_memory, lr_disc=1e-5, batch_size_disc=128, epochs_disc=2, val_split_disc=0.1,\n",
    "                   n_stack_disc=discriminator_stack, net_architecture=irl_net_architecture,\n",
    "                   use_expert_actions=use_expert_actions)"
   ]
  },
  {
   "cell_type": "code",
   "execution_count": null,
   "id": "7e771fb4",
   "metadata": {},
   "outputs": [],
   "source": [
    "irl_problem.solve(200, render=False, max_step_epi=100, render_after=10)"
   ]
  },
  {
   "cell_type": "code",
   "execution_count": null,
   "id": "dfc63c1a",
   "metadata": {},
   "outputs": [],
   "source": [
    "rl_problem.test(10, True)"
   ]
  },
  {
   "cell_type": "code",
   "execution_count": null,
   "id": "6aea4808",
   "metadata": {},
   "outputs": [],
   "source": []
  },
  {
   "cell_type": "code",
   "execution_count": null,
   "id": "58bcee88",
   "metadata": {},
   "outputs": [],
   "source": []
  }
 ],
 "metadata": {
  "kernelspec": {
   "display_name": "Python 3 (ipykernel)",
   "language": "python",
   "name": "python3"
  },
  "language_info": {
   "codemirror_mode": {
    "name": "ipython",
    "version": 3
   },
   "file_extension": ".py",
   "mimetype": "text/x-python",
   "name": "python",
   "nbconvert_exporter": "python",
   "pygments_lexer": "ipython3",
   "version": "3.7.10"
  }
 },
 "nbformat": 4,
 "nbformat_minor": 5
}

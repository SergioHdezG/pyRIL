{
 "cells": [
  {
   "cell_type": "code",
   "execution_count": 1,
   "id": "3495a523",
   "metadata": {},
   "outputs": [
    {
     "name": "stderr",
     "output_type": "stream",
     "text": [
      "2021-11-30 12:32:14.137327: I tensorflow/stream_executor/platform/default/dso_loader.cc:44] Successfully opened dynamic library libcuda.so.1\n",
      "2021-11-30 12:32:14.157716: I tensorflow/stream_executor/cuda/cuda_gpu_executor.cc:981] successful NUMA node read from SysFS had negative value (-1), but there must be at least one NUMA node, so returning NUMA node zero\n",
      "2021-11-30 12:32:14.157981: I tensorflow/core/common_runtime/gpu/gpu_device.cc:1561] Found device 0 with properties: \n",
      "pciBusID: 0000:01:00.0 name: GeForce RTX 2070 computeCapability: 7.5\n",
      "coreClock: 1.71GHz coreCount: 36 deviceMemorySize: 7.79GiB deviceMemoryBandwidth: 417.29GiB/s\n",
      "2021-11-30 12:32:14.158108: I tensorflow/stream_executor/platform/default/dso_loader.cc:44] Successfully opened dynamic library libcudart.so.10.1\n",
      "2021-11-30 12:32:14.159280: I tensorflow/stream_executor/platform/default/dso_loader.cc:44] Successfully opened dynamic library libcublas.so.10\n",
      "2021-11-30 12:32:14.160262: I tensorflow/stream_executor/platform/default/dso_loader.cc:44] Successfully opened dynamic library libcufft.so.10\n",
      "2021-11-30 12:32:14.160421: I tensorflow/stream_executor/platform/default/dso_loader.cc:44] Successfully opened dynamic library libcurand.so.10\n",
      "2021-11-30 12:32:14.161480: I tensorflow/stream_executor/platform/default/dso_loader.cc:44] Successfully opened dynamic library libcusolver.so.10\n",
      "2021-11-30 12:32:14.162089: I tensorflow/stream_executor/platform/default/dso_loader.cc:44] Successfully opened dynamic library libcusparse.so.10\n",
      "2021-11-30 12:32:14.164389: I tensorflow/stream_executor/platform/default/dso_loader.cc:44] Successfully opened dynamic library libcudnn.so.7\n",
      "2021-11-30 12:32:14.164476: I tensorflow/stream_executor/cuda/cuda_gpu_executor.cc:981] successful NUMA node read from SysFS had negative value (-1), but there must be at least one NUMA node, so returning NUMA node zero\n",
      "2021-11-30 12:32:14.164772: I tensorflow/stream_executor/cuda/cuda_gpu_executor.cc:981] successful NUMA node read from SysFS had negative value (-1), but there must be at least one NUMA node, so returning NUMA node zero\n",
      "2021-11-30 12:32:14.165000: I tensorflow/core/common_runtime/gpu/gpu_device.cc:1703] Adding visible gpu devices: 0\n"
     ]
    }
   ],
   "source": [
    "import tensorflow as tf\n",
    "physical_devices = tf.config.experimental.list_physical_devices('GPU')\n",
    "assert len(physical_devices) > 0, \"Not enough GPU hardware devices available\"\n",
    "config = tf.config.experimental.set_memory_growth(physical_devices[0], True)"
   ]
  },
  {
   "cell_type": "markdown",
   "id": "e1b9ae80",
   "metadata": {},
   "source": [
    "# Custom networks with keras and Deterministic Policy Gradient (DPG)\n",
    "\n",
    "In this tutorial we introduce an advanced procedure to define your custom neural network using keras. This procedure allows the user to create more complex neural architectures and use all kind of layers from keras module.\n",
    "\n",
    "We choose Deterministic Policy Gradient (DPG) which is a Policy-Based agent, this means that the agent will learn the policy itself. Instead of proposing values of states V(s) as DQN based angen do, DPG propose directly the actions."
   ]
  },
  {
   "cell_type": "code",
   "execution_count": 2,
   "id": "4da4be4e",
   "metadata": {},
   "outputs": [
    {
     "name": "stderr",
     "output_type": "stream",
     "text": [
      "2021-11-30 12:32:15.916388: I tensorflow/core/platform/cpu_feature_guard.cc:143] Your CPU supports instructions that this TensorFlow binary was not compiled to use: SSE4.1 SSE4.2 AVX AVX2 FMA\n",
      "2021-11-30 12:32:15.937721: I tensorflow/core/platform/profile_utils/cpu_utils.cc:102] CPU Frequency: 3199980000 Hz\n",
      "2021-11-30 12:32:15.938096: I tensorflow/compiler/xla/service/service.cc:168] XLA service 0x562e1ac6c120 initialized for platform Host (this does not guarantee that XLA will be used). Devices:\n",
      "2021-11-30 12:32:15.938108: I tensorflow/compiler/xla/service/service.cc:176]   StreamExecutor device (0): Host, Default Version\n",
      "2021-11-30 12:32:15.938247: I tensorflow/stream_executor/cuda/cuda_gpu_executor.cc:981] successful NUMA node read from SysFS had negative value (-1), but there must be at least one NUMA node, so returning NUMA node zero\n",
      "2021-11-30 12:32:15.938513: I tensorflow/core/common_runtime/gpu/gpu_device.cc:1561] Found device 0 with properties: \n",
      "pciBusID: 0000:01:00.0 name: GeForce RTX 2070 computeCapability: 7.5\n",
      "coreClock: 1.71GHz coreCount: 36 deviceMemorySize: 7.79GiB deviceMemoryBandwidth: 417.29GiB/s\n",
      "2021-11-30 12:32:15.938546: I tensorflow/stream_executor/platform/default/dso_loader.cc:44] Successfully opened dynamic library libcudart.so.10.1\n",
      "2021-11-30 12:32:15.938557: I tensorflow/stream_executor/platform/default/dso_loader.cc:44] Successfully opened dynamic library libcublas.so.10\n",
      "2021-11-30 12:32:15.938566: I tensorflow/stream_executor/platform/default/dso_loader.cc:44] Successfully opened dynamic library libcufft.so.10\n",
      "2021-11-30 12:32:15.938575: I tensorflow/stream_executor/platform/default/dso_loader.cc:44] Successfully opened dynamic library libcurand.so.10\n",
      "2021-11-30 12:32:15.938585: I tensorflow/stream_executor/platform/default/dso_loader.cc:44] Successfully opened dynamic library libcusolver.so.10\n",
      "2021-11-30 12:32:15.938594: I tensorflow/stream_executor/platform/default/dso_loader.cc:44] Successfully opened dynamic library libcusparse.so.10\n",
      "2021-11-30 12:32:15.938604: I tensorflow/stream_executor/platform/default/dso_loader.cc:44] Successfully opened dynamic library libcudnn.so.7\n",
      "2021-11-30 12:32:15.938649: I tensorflow/stream_executor/cuda/cuda_gpu_executor.cc:981] successful NUMA node read from SysFS had negative value (-1), but there must be at least one NUMA node, so returning NUMA node zero\n",
      "2021-11-30 12:32:15.938917: I tensorflow/stream_executor/cuda/cuda_gpu_executor.cc:981] successful NUMA node read from SysFS had negative value (-1), but there must be at least one NUMA node, so returning NUMA node zero\n",
      "2021-11-30 12:32:15.939146: I tensorflow/core/common_runtime/gpu/gpu_device.cc:1703] Adding visible gpu devices: 0\n",
      "2021-11-30 12:32:15.939168: I tensorflow/stream_executor/platform/default/dso_loader.cc:44] Successfully opened dynamic library libcudart.so.10.1\n",
      "2021-11-30 12:32:15.986578: I tensorflow/core/common_runtime/gpu/gpu_device.cc:1102] Device interconnect StreamExecutor with strength 1 edge matrix:\n",
      "2021-11-30 12:32:15.986595: I tensorflow/core/common_runtime/gpu/gpu_device.cc:1108]      0 \n",
      "2021-11-30 12:32:15.986599: I tensorflow/core/common_runtime/gpu/gpu_device.cc:1121] 0:   N \n",
      "2021-11-30 12:32:15.986720: I tensorflow/stream_executor/cuda/cuda_gpu_executor.cc:981] successful NUMA node read from SysFS had negative value (-1), but there must be at least one NUMA node, so returning NUMA node zero\n",
      "2021-11-30 12:32:15.987023: I tensorflow/stream_executor/cuda/cuda_gpu_executor.cc:981] successful NUMA node read from SysFS had negative value (-1), but there must be at least one NUMA node, so returning NUMA node zero\n",
      "2021-11-30 12:32:15.987286: I tensorflow/stream_executor/cuda/cuda_gpu_executor.cc:981] successful NUMA node read from SysFS had negative value (-1), but there must be at least one NUMA node, so returning NUMA node zero\n",
      "2021-11-30 12:32:15.987526: I tensorflow/core/common_runtime/gpu/gpu_device.cc:1247] Created TensorFlow device (/job:localhost/replica:0/task:0/device:GPU:0 with 6446 MB memory) -> physical GPU (device: 0, name: GeForce RTX 2070, pci bus id: 0000:01:00.0, compute capability: 7.5)\n",
      "2021-11-30 12:32:15.988963: I tensorflow/compiler/xla/service/service.cc:168] XLA service 0x562e1c3ebee0 initialized for platform CUDA (this does not guarantee that XLA will be used). Devices:\n",
      "2021-11-30 12:32:15.988974: I tensorflow/compiler/xla/service/service.cc:176]   StreamExecutor device (0): GeForce RTX 2070, Compute Capability 7.5\n",
      "\n",
      "Bad key savefig.frameon in file /home/shernandez/anaconda3/envs/tf2py37/lib/python3.7/site-packages/matplotlib/mpl-data/stylelib/_classic_test.mplstyle, line 421 ('savefig.frameon : True')\n",
      "You probably need to get an updated matplotlibrc file from\n",
      "https://github.com/matplotlib/matplotlib/blob/v3.3.4/matplotlibrc.template\n",
      "or from the matplotlib source distribution\n",
      "\n",
      "Bad key verbose.level in file /home/shernandez/anaconda3/envs/tf2py37/lib/python3.7/site-packages/matplotlib/mpl-data/stylelib/_classic_test.mplstyle, line 472 ('verbose.level  : silent      # one of silent, helpful, debug, debug-annoying')\n",
      "You probably need to get an updated matplotlibrc file from\n",
      "https://github.com/matplotlib/matplotlib/blob/v3.3.4/matplotlibrc.template\n",
      "or from the matplotlib source distribution\n",
      "\n",
      "Bad key verbose.fileo in file /home/shernandez/anaconda3/envs/tf2py37/lib/python3.7/site-packages/matplotlib/mpl-data/stylelib/_classic_test.mplstyle, line 473 ('verbose.fileo  : sys.stdout  # a log filename, sys.stdout or sys.stderr')\n",
      "You probably need to get an updated matplotlibrc file from\n",
      "https://github.com/matplotlib/matplotlib/blob/v3.3.4/matplotlibrc.template\n",
      "or from the matplotlib source distribution\n",
      "In /home/shernandez/anaconda3/envs/tf2py37/lib/python3.7/site-packages/matplotlib/mpl-data/stylelib/_classic_test.mplstyle: \n",
      "The text.latex.preview rcparam was deprecated in Matplotlib 3.3 and will be removed two minor releases later.\n",
      "In /home/shernandez/anaconda3/envs/tf2py37/lib/python3.7/site-packages/matplotlib/mpl-data/stylelib/_classic_test.mplstyle: \n",
      "The mathtext.fallback_to_cm rcparam was deprecated in Matplotlib 3.3 and will be removed two minor releases later.\n",
      "In /home/shernandez/anaconda3/envs/tf2py37/lib/python3.7/site-packages/matplotlib/mpl-data/stylelib/_classic_test.mplstyle: Support for setting the 'mathtext.fallback_to_cm' rcParam is deprecated since 3.3 and will be removed two minor releases later; use 'mathtext.fallback : 'cm' instead.\n",
      "In /home/shernandez/anaconda3/envs/tf2py37/lib/python3.7/site-packages/matplotlib/mpl-data/stylelib/_classic_test.mplstyle: \n",
      "The validate_bool_maybe_none function was deprecated in Matplotlib 3.3 and will be removed two minor releases later.\n",
      "In /home/shernandez/anaconda3/envs/tf2py37/lib/python3.7/site-packages/matplotlib/mpl-data/stylelib/_classic_test.mplstyle: \n",
      "The savefig.jpeg_quality rcparam was deprecated in Matplotlib 3.3 and will be removed two minor releases later.\n",
      "In /home/shernandez/anaconda3/envs/tf2py37/lib/python3.7/site-packages/matplotlib/mpl-data/stylelib/_classic_test.mplstyle: \n",
      "The keymap.all_axes rcparam was deprecated in Matplotlib 3.3 and will be removed two minor releases later.\n",
      "In /home/shernandez/anaconda3/envs/tf2py37/lib/python3.7/site-packages/matplotlib/mpl-data/stylelib/_classic_test.mplstyle: \n",
      "The animation.avconv_path rcparam was deprecated in Matplotlib 3.3 and will be removed two minor releases later.\n",
      "In /home/shernandez/anaconda3/envs/tf2py37/lib/python3.7/site-packages/matplotlib/mpl-data/stylelib/_classic_test.mplstyle: \n",
      "The animation.avconv_args rcparam was deprecated in Matplotlib 3.3 and will be removed two minor releases later.\n"
     ]
    }
   ],
   "source": [
    "from RL_Problem import rl_problem\n",
    "from RL_Agent import dpg_agent\n",
    "from tensorflow.keras.models import Sequential\n",
    "from tensorflow.keras.layers import Dense, LSTM\n",
    "from RL_Agent.base.utils.networks import networks\n",
    "from RL_Agent.base.utils import agent_saver, history_utils\n",
    "import gym"
   ]
  },
  {
   "cell_type": "markdown",
   "id": "a401f4ab",
   "metadata": {},
   "source": [
    "In file \"RL_Agent.base.utils.networks.networks\" we have some functions to define the dictionaries with the neural network architectures. These dictionaries have a key called: use_custom_network. \n",
    "\n",
    "When this key is set to True, the agent will spect a funtion that build a keras model. This function receives the input shape of the network which should be the state size. Inside this function you can create you keras network and return it as a tensorflow.keras.models.Sequential or as from tensorflow.keras.models.Model. \n",
    "\n",
    "The next cell shows an example of creating a Sequential keras model."
   ]
  },
  {
   "cell_type": "code",
   "execution_count": 3,
   "id": "d4e43f7d",
   "metadata": {},
   "outputs": [],
   "source": [
    "def lstm_custom_model(input_shape):\n",
    "    actor_model = Sequential()\n",
    "    actor_model.add(LSTM(64, input_shape=input_shape, activation='tanh'))\n",
    "    actor_model.add(Dense(256, input_shape=input_shape, activation='relu'))\n",
    "    actor_model.add(Dense(256, activation='relu'))\n",
    "    return actor_model"
   ]
  },
  {
   "cell_type": "markdown",
   "id": "c36ac607",
   "metadata": {},
   "source": [
    "Then, we need to define the dictionary to especify the network architecture. As explained before, use_custom_network params has to be set to True. The other param, \"custom_network\", recieves the function to build the model. \n",
    "\n",
    "For this particular case, we only have the \"custom_network\" param, but in other cases we may have the network divided in subnetworks. For example, Dueling DDQN or Deep Deterministic Policy Gradient have especific network architectures that are divided in subnerworks where we have an especific key in the dictionarie for each subnetwork."
   ]
  },
  {
   "cell_type": "code",
   "execution_count": 4,
   "id": "73b3863f",
   "metadata": {},
   "outputs": [],
   "source": [
    "net_architecture = networks.dpg_net(use_custom_network=True,\n",
    "                                    custom_network=lstm_custom_model)"
   ]
  },
  {
   "cell_type": "markdown",
   "id": "4c38431b",
   "metadata": {},
   "source": [
    "Here we define the RL agent that we are going to use.\n",
    "\n",
    "* learning_rate: learning rate for training the neural network.\n",
    "* batch_size: Size of the batches used for training the neural network. \n",
    "* net_architecture: net architecture defined before.\n",
    "* n_stack: number of stacked timesteps to form the state.\n",
    "\n",
    "You may notice that we do not include parameters related to exploration process like \"epsilon\", this is because this algorithm use by default a random choice of action based on the probabilities calculated by the neural network (np.random.choice(n_actions, p=probability_predicitons). This dotes DPG with an inherent explorative behavior and makes epsilon (exploration rate) not needed."
   ]
  },
  {
   "cell_type": "code",
   "execution_count": 5,
   "id": "7d6a3b5c",
   "metadata": {},
   "outputs": [],
   "source": [
    "agent = dpg_agent.Agent(learning_rate=1e-3,\n",
    "                        batch_size=64,\n",
    "                        net_architecture=net_architecture,\n",
    "                        n_stack=5)"
   ]
  },
  {
   "cell_type": "markdown",
   "id": "1d1d5025",
   "metadata": {},
   "source": [
    "We chose the LunarLander environment from OpenAI Gym."
   ]
  },
  {
   "cell_type": "code",
   "execution_count": 6,
   "id": "81c493f3",
   "metadata": {},
   "outputs": [],
   "source": [
    "environment = \"LunarLander-v2\"\n",
    "environment = gym.make(environment)"
   ]
  },
  {
   "cell_type": "markdown",
   "id": "d876ea70",
   "metadata": {},
   "source": [
    "Create a RL problem were the comunications between agent and environment are managed. In this case, we use the funcionality from \"RL_Problem.rl_problem\" which makes transparent to the user the selection of the matching problem. The function \"Problem\" automaticaly selects the problem based on the agent used."
   ]
  },
  {
   "cell_type": "code",
   "execution_count": 7,
   "id": "ce9be6eb",
   "metadata": {},
   "outputs": [],
   "source": [
    "problem = rl_problem.Problem(environment, agent)"
   ]
  },
  {
   "cell_type": "markdown",
   "id": "c7162846",
   "metadata": {},
   "source": [
    "Next step is solving the RL problem that we have define. Here we specify the number of episodes, the skip_states parameter, the render boolean and additionaly after how many iterations we want to render the environment. \n",
    "\n",
    "When render is set to False we can specify the render_after parameter. The environement will be rendering after reach the specified number of iterations."
   ]
  },
  {
   "cell_type": "code",
   "execution_count": 8,
   "id": "3eeb2a4d",
   "metadata": {},
   "outputs": [
    {
     "name": "stderr",
     "output_type": "stream",
     "text": [
      "2021-11-30 12:32:21.289300: I tensorflow/stream_executor/platform/default/dso_loader.cc:44] Successfully opened dynamic library libcublas.so.10\n",
      "2021-11-30 12:32:21.478313: I tensorflow/stream_executor/platform/default/dso_loader.cc:44] Successfully opened dynamic library libcudnn.so.7\n"
     ]
    },
    {
     "name": "stdout",
     "output_type": "stream",
     "text": [
      "Episode:  1 Epochs:  85  Reward: -381.6 Smooth Reward: -381.6  Epsilon: 0.0000\n",
      "Episode:  2 Epochs:  107  Reward: -263.0 Smooth Reward: -322.3  Epsilon: 0.0000\n",
      "Episode:  3 Epochs:  91  Reward: -498.7 Smooth Reward: -381.1  Epsilon: 0.0000\n",
      "Episode:  4 Epochs:  140  Reward: -266.9 Smooth Reward: -352.6  Epsilon: 0.0000\n",
      "Episode:  5 Epochs:  109  Reward: -253.1 Smooth Reward: -332.7  Epsilon: 0.0000\n",
      "Episode:  6 Epochs:  118  Reward: -144.2 Smooth Reward: -301.2  Epsilon: 0.0000\n",
      "Episode:  7 Epochs:  74  Reward: -154.0 Smooth Reward: -280.2  Epsilon: 0.0000\n",
      "Episode:  8 Epochs:  87  Reward: -174.8 Smooth Reward: -267.0  Epsilon: 0.0000\n",
      "Episode:  9 Epochs:  83  Reward: -150.0 Smooth Reward: -254.0  Epsilon: 0.0000\n",
      "Episode:  10 Epochs:  76  Reward: -319.0 Smooth Reward: -260.5  Epsilon: 0.0000\n",
      "Episode:  11 Epochs:  121  Reward: -239.2 Smooth Reward: -246.3  Epsilon: 0.0000\n",
      "Episode:  12 Epochs:  111  Reward: -200.1 Smooth Reward: -240.0  Epsilon: 0.0000\n",
      "Episode:  13 Epochs:  80  Reward: -98.2 Smooth Reward: -199.9  Epsilon: 0.0000\n",
      "Episode:  14 Epochs:  95  Reward: -54.9 Smooth Reward: -178.7  Epsilon: 0.0000\n",
      "Episode:  15 Epochs:  79  Reward: -188.9 Smooth Reward: -172.3  Epsilon: 0.0000\n",
      "Episode:  16 Epochs:  96  Reward: -111.1 Smooth Reward: -169.0  Epsilon: 0.0000\n",
      "Episode:  17 Epochs:  81  Reward: -399.3 Smooth Reward: -193.5  Epsilon: 0.0000\n",
      "Episode:  18 Epochs:  99  Reward: -86.8 Smooth Reward: -184.7  Epsilon: 0.0000\n",
      "Episode:  19 Epochs:  108  Reward: -217.7 Smooth Reward: -191.5  Epsilon: 0.0000\n",
      "Episode:  20 Epochs:  87  Reward: -86.5 Smooth Reward: -168.3  Epsilon: 0.0000\n",
      "Episode:  21 Epochs:  121  Reward: -306.0 Smooth Reward: -174.9  Epsilon: 0.0000\n",
      "Episode:  22 Epochs:  80  Reward: -255.5 Smooth Reward: -180.5  Epsilon: 0.0000\n",
      "Episode:  23 Epochs:  114  Reward: -215.1 Smooth Reward: -192.2  Epsilon: 0.0000\n",
      "Episode:  24 Epochs:  62  Reward: -68.2 Smooth Reward: -193.5  Epsilon: 0.0000\n",
      "Episode:  25 Epochs:  126  Reward: -334.5 Smooth Reward: -208.1  Epsilon: 0.0000\n",
      "Episode:  26 Epochs:  138  Reward: -201.5 Smooth Reward: -217.1  Epsilon: 0.0000\n",
      "Episode:  27 Epochs:  66  Reward: -141.3 Smooth Reward: -191.3  Epsilon: 0.0000\n",
      "Episode:  28 Epochs:  98  Reward: -124.6 Smooth Reward: -195.1  Epsilon: 0.0000\n",
      "Episode:  29 Epochs:  127  Reward: -91.1 Smooth Reward: -182.4  Epsilon: 0.0000\n",
      "Episode:  30 Epochs:  92  Reward: -165.0 Smooth Reward: -190.3  Epsilon: 0.0000\n",
      "Episode:  31 Epochs:  74  Reward: -140.5 Smooth Reward: -173.7  Epsilon: 0.0000\n",
      "Episode:  32 Epochs:  100  Reward: -50.2 Smooth Reward: -153.2  Epsilon: 0.0000\n",
      "Episode:  33 Epochs:  95  Reward: -125.5 Smooth Reward: -144.2  Epsilon: 0.0000\n",
      "Episode:  34 Epochs:  72  Reward: -43.6 Smooth Reward: -141.8  Epsilon: 0.0000\n",
      "Episode:  35 Epochs:  142  Reward: -354.5 Smooth Reward: -143.8  Epsilon: 0.0000\n",
      "Episode:  36 Epochs:  106  Reward: -65.6 Smooth Reward: -130.2  Epsilon: 0.0000\n",
      "Episode:  37 Epochs:  192  Reward: -131.3 Smooth Reward: -129.2  Epsilon: 0.0000\n",
      "Episode:  38 Epochs:  148  Reward: -93.1 Smooth Reward: -126.0  Epsilon: 0.0000\n",
      "Episode:  39 Epochs:  148  Reward: -143.2 Smooth Reward: -131.2  Epsilon: 0.0000\n",
      "Episode:  40 Epochs:  102  Reward: -28.9 Smooth Reward: -117.6  Epsilon: 0.0000\n",
      "Episode:  41 Epochs:  184  Reward: -38.2 Smooth Reward: -107.4  Epsilon: 0.0000\n",
      "Episode:  42 Epochs:  110  Reward: -499.6 Smooth Reward: -152.3  Epsilon: 0.0000\n",
      "Episode:  43 Epochs:  312  Reward: -154.6 Smooth Reward: -155.2  Epsilon: 0.0000\n",
      "Episode:  44 Epochs:  88  Reward: -80.3 Smooth Reward: -158.9  Epsilon: 0.0000\n",
      "Episode:  45 Epochs:  102  Reward: -89.1 Smooth Reward: -132.4  Epsilon: 0.0000\n",
      "Episode:  46 Epochs:  104  Reward: -208.7 Smooth Reward: -146.7  Epsilon: 0.0000\n",
      "Episode:  47 Epochs:  104  Reward: -74.7 Smooth Reward: -141.0  Epsilon: 0.0000\n",
      "Episode:  48 Epochs:  108  Reward: -76.5 Smooth Reward: -139.4  Epsilon: 0.0000\n",
      "Episode:  49 Epochs:  226  Reward: -314.4 Smooth Reward: -156.5  Epsilon: 0.0000\n",
      "Episode:  50 Epochs:  77  Reward: -95.4 Smooth Reward: -163.2  Epsilon: 0.0000\n",
      "Episode:  51 Epochs:  113  Reward: 9.5 Smooth Reward: -158.4  Epsilon: 0.0000\n",
      "Episode:  52 Epochs:  99  Reward: -89.9 Smooth Reward: -117.4  Epsilon: 0.0000\n",
      "Episode:  53 Epochs:  86  Reward: -105.3 Smooth Reward: -112.5  Epsilon: 0.0000\n",
      "Episode:  54 Epochs:  88  Reward: -110.1 Smooth Reward: -115.5  Epsilon: 0.0000\n",
      "Episode:  55 Epochs:  211  Reward: -100.3 Smooth Reward: -116.6  Epsilon: 0.0000\n",
      "Episode:  56 Epochs:  139  Reward: -142.4 Smooth Reward: -110.0  Epsilon: 0.0000\n",
      "Episode:  57 Epochs:  82  Reward: -63.1 Smooth Reward: -108.8  Epsilon: 0.0000\n",
      "Episode:  58 Epochs:  130  Reward: -188.8 Smooth Reward: -120.0  Epsilon: 0.0000\n",
      "Episode:  59 Epochs:  191  Reward: -201.1 Smooth Reward: -108.7  Epsilon: 0.0000\n",
      "Episode:  60 Epochs:  166  Reward: -60.0 Smooth Reward: -105.2  Epsilon: 0.0000\n",
      "Episode:  61 Epochs:  165  Reward: -207.2 Smooth Reward: -126.8  Epsilon: 0.0000\n",
      "Episode:  62 Epochs:  80  Reward: -69.3 Smooth Reward: -124.8  Epsilon: 0.0000\n",
      "Episode:  63 Epochs:  103  Reward: -217.1 Smooth Reward: -136.0  Epsilon: 0.0000\n",
      "Episode:  64 Epochs:  214  Reward: -40.2 Smooth Reward: -129.0  Epsilon: 0.0000\n",
      "Episode:  65 Epochs:  87  Reward: 54.1 Smooth Reward: -113.5  Epsilon: 0.0000\n",
      "Episode:  66 Epochs:  139  Reward: -76.4 Smooth Reward: -106.9  Epsilon: 0.0000\n",
      "Episode:  67 Epochs:  80  Reward: -47.2 Smooth Reward: -105.3  Epsilon: 0.0000\n",
      "Episode:  68 Epochs:  73  Reward: -96.2 Smooth Reward: -96.1  Epsilon: 0.0000\n",
      "Episode:  69 Epochs:  123  Reward: -227.8 Smooth Reward: -98.7  Epsilon: 0.0000\n",
      "Episode:  70 Epochs:  74  Reward: -133.3 Smooth Reward: -106.1  Epsilon: 0.0000\n",
      "Episode:  71 Epochs:  80  Reward: -76.6 Smooth Reward: -93.0  Epsilon: 0.0000\n",
      "Episode:  72 Epochs:  159  Reward: -99.9 Smooth Reward: -96.1  Epsilon: 0.0000\n",
      "Episode:  73 Epochs:  216  Reward: -41.3 Smooth Reward: -78.5  Epsilon: 0.0000\n",
      "Episode:  74 Epochs:  75  Reward: -47.9 Smooth Reward: -79.2  Epsilon: 0.0000\n",
      "Episode:  75 Epochs:  120  Reward: -56.3 Smooth Reward: -90.3  Epsilon: 0.0000\n",
      "Episode:  76 Epochs:  73  Reward: -148.6 Smooth Reward: -97.5  Epsilon: 0.0000\n",
      "Episode:  77 Epochs:  139  Reward: -137.7 Smooth Reward: -106.6  Epsilon: 0.0000\n",
      "Episode:  78 Epochs:  66  Reward: -84.1 Smooth Reward: -105.4  Epsilon: 0.0000\n",
      "Episode:  79 Epochs:  82  Reward: -52.3 Smooth Reward: -87.8  Epsilon: 0.0000\n",
      "Episode:  80 Epochs:  140  Reward: -373.6 Smooth Reward: -111.8  Epsilon: 0.0000\n",
      "Episode:  81 Epochs:  140  Reward: -72.9 Smooth Reward: -111.5  Epsilon: 0.0000\n",
      "Episode:  82 Epochs:  131  Reward: -135.5 Smooth Reward: -115.0  Epsilon: 0.0000\n",
      "Episode:  83 Epochs:  77  Reward: -44.6 Smooth Reward: -115.4  Epsilon: 0.0000\n",
      "Episode:  84 Epochs:  190  Reward: -33.0 Smooth Reward: -113.9  Epsilon: 0.0000\n",
      "Episode:  85 Epochs:  193  Reward: -340.1 Smooth Reward: -142.2  Epsilon: 0.0000\n",
      "Episode:  86 Epochs:  113  Reward: 3.4 Smooth Reward: -127.0  Epsilon: 0.0000\n",
      "Episode:  87 Epochs:  181  Reward: 6.3 Smooth Reward: -112.6  Epsilon: 0.0000\n",
      "Episode:  88 Epochs:  112  Reward: -351.6 Smooth Reward: -139.4  Epsilon: 0.0000\n",
      "Episode:  89 Epochs:  99  Reward: -245.1 Smooth Reward: -158.7  Epsilon: 0.0000\n",
      "Episode:  90 Epochs:  1000  Reward: -44.6 Smooth Reward: -125.8  Epsilon: 0.0000\n",
      "Episode:  91 Epochs:  70  Reward: -151.8 Smooth Reward: -133.7  Epsilon: 0.0000\n",
      "Episode:  92 Epochs:  112  Reward: -235.9 Smooth Reward: -143.7  Epsilon: 0.0000\n",
      "Episode:  93 Epochs:  275  Reward: -51.7 Smooth Reward: -144.4  Epsilon: 0.0000\n",
      "Episode:  94 Epochs:  114  Reward: -205.4 Smooth Reward: -161.6  Epsilon: 0.0000\n",
      "Episode:  95 Epochs:  167  Reward: -46.6 Smooth Reward: -132.3  Epsilon: 0.0000\n",
      "Episode:  96 Epochs:  83  Reward: -73.9 Smooth Reward: -140.0  Epsilon: 0.0000\n",
      "Episode:  97 Epochs:  226  Reward: -216.5 Smooth Reward: -162.3  Epsilon: 0.0000\n",
      "Episode:  98 Epochs:  1000  Reward: 59.0 Smooth Reward: -121.3  Epsilon: 0.0000\n",
      "Episode:  99 Epochs:  153  Reward: -222.8 Smooth Reward: -119.0  Epsilon: 0.0000\n",
      "Episode:  100 Epochs:  126  Reward: -229.1 Smooth Reward: -137.5  Epsilon: 0.0000\n",
      "Episode:  101 Epochs:  119  Reward: -260.4 Smooth Reward: -148.3  Epsilon: 0.0000\n",
      "Episode:  102 Epochs:  282  Reward: -113.9 Smooth Reward: -136.1  Epsilon: 0.0000\n",
      "Episode:  103 Epochs:  191  Reward: -240.5 Smooth Reward: -155.0  Epsilon: 0.0000\n",
      "Episode:  104 Epochs:  235  Reward: -66.1 Smooth Reward: -141.1  Epsilon: 0.0000\n"
     ]
    },
    {
     "name": "stdout",
     "output_type": "stream",
     "text": [
      "Episode:  105 Epochs:  127  Reward: -81.6 Smooth Reward: -144.6  Epsilon: 0.0000\n",
      "Episode:  106 Epochs:  230  Reward: -299.3 Smooth Reward: -167.1  Epsilon: 0.0000\n",
      "Episode:  107 Epochs:  109  Reward: -12.0 Smooth Reward: -146.7  Epsilon: 0.0000\n",
      "Episode:  108 Epochs:  107  Reward: -18.9 Smooth Reward: -154.5  Epsilon: 0.0000\n",
      "Episode:  109 Epochs:  154  Reward: 33.9 Smooth Reward: -128.8  Epsilon: 0.0000\n",
      "Episode:  110 Epochs:  84  Reward: -92.1 Smooth Reward: -115.1  Epsilon: 0.0000\n",
      "Episode:  111 Epochs:  179  Reward: -101.6 Smooth Reward: -99.2  Epsilon: 0.0000\n",
      "Episode:  112 Epochs:  406  Reward: -93.5 Smooth Reward: -97.2  Epsilon: 0.0000\n",
      "Episode:  113 Epochs:  100  Reward: -164.4 Smooth Reward: -89.6  Epsilon: 0.0000\n",
      "Episode:  114 Epochs:  200  Reward: -383.5 Smooth Reward: -121.3  Epsilon: 0.0000\n",
      "Episode:  115 Epochs:  76  Reward: -192.4 Smooth Reward: -132.4  Epsilon: 0.0000\n",
      "Episode:  116 Epochs:  88  Reward: -53.6 Smooth Reward: -107.8  Epsilon: 0.0000\n",
      "Episode:  117 Epochs:  86  Reward: -115.0 Smooth Reward: -118.1  Epsilon: 0.0000\n",
      "Episode:  118 Epochs:  89  Reward: -56.3 Smooth Reward: -121.9  Epsilon: 0.0000\n",
      "Episode:  119 Epochs:  197  Reward: -100.0 Smooth Reward: -135.2  Epsilon: 0.0000\n",
      "Episode:  120 Epochs:  76  Reward: -110.1 Smooth Reward: -137.0  Epsilon: 0.0000\n",
      "Episode:  121 Epochs:  70  Reward: -170.5 Smooth Reward: -143.9  Epsilon: 0.0000\n",
      "Episode:  122 Epochs:  87  Reward: -58.4 Smooth Reward: -140.4  Epsilon: 0.0000\n",
      "Episode:  123 Epochs:  133  Reward: -31.7 Smooth Reward: -127.1  Epsilon: 0.0000\n",
      "Episode:  124 Epochs:  151  Reward: -155.7 Smooth Reward: -104.4  Epsilon: 0.0000\n",
      "Episode:  125 Epochs:  109  Reward: -26.9 Smooth Reward: -87.8  Epsilon: 0.0000\n",
      "Episode:  126 Epochs:  520  Reward: -104.1 Smooth Reward: -92.9  Epsilon: 0.0000\n",
      "Episode:  127 Epochs:  248  Reward: 208.8 Smooth Reward: -60.5  Epsilon: 0.0000\n",
      "Episode:  128 Epochs:  144  Reward: -75.4 Smooth Reward: -62.4  Epsilon: 0.0000\n",
      "Episode:  129 Epochs:  90  Reward: -25.2 Smooth Reward: -54.9  Epsilon: 0.0000\n",
      "Episode:  130 Epochs:  169  Reward: -127.8 Smooth Reward: -56.7  Epsilon: 0.0000\n",
      "Episode:  131 Epochs:  322  Reward: 197.1 Smooth Reward: -19.9  Epsilon: 0.0000\n",
      "Episode:  132 Epochs:  252  Reward: -30.3 Smooth Reward: -17.1  Epsilon: 0.0000\n",
      "Episode:  133 Epochs:  161  Reward: 37.0 Smooth Reward: -10.2  Epsilon: 0.0000\n",
      "Episode:  134 Epochs:  229  Reward: 28.7 Smooth Reward: 8.2  Epsilon: 0.0000\n",
      "Episode:  135 Epochs:  181  Reward: -5.7 Smooth Reward: 10.3  Epsilon: 0.0000\n",
      "Episode:  136 Epochs:  175  Reward: -101.3 Smooth Reward: 10.6  Epsilon: 0.0000\n",
      "Episode:  137 Epochs:  226  Reward: 39.3 Smooth Reward: -6.4  Epsilon: 0.0000\n",
      "Episode:  138 Epochs:  490  Reward: 236.4 Smooth Reward: 24.8  Epsilon: 0.0000\n",
      "Episode:  139 Epochs:  254  Reward: -4.9 Smooth Reward: 26.8  Epsilon: 0.0000\n",
      "Episode:  140 Epochs:  115  Reward: 28.7 Smooth Reward: 42.5  Epsilon: 0.0000\n",
      "Episode:  141 Epochs:  116  Reward: -11.7 Smooth Reward: 21.6  Epsilon: 0.0000\n",
      "Episode:  142 Epochs:  116  Reward: -64.2 Smooth Reward: 18.2  Epsilon: 0.0000\n",
      "Episode:  143 Epochs:  246  Reward: -5.1 Smooth Reward: 14.0  Epsilon: 0.0000\n",
      "Episode:  144 Epochs:  114  Reward: -50.6 Smooth Reward: 6.1  Epsilon: 0.0000\n",
      "Episode:  145 Epochs:  87  Reward: -234.5 Smooth Reward: -16.8  Epsilon: 0.0000\n",
      "Episode:  146 Epochs:  198  Reward: -70.3 Smooth Reward: -13.7  Epsilon: 0.0000\n",
      "Episode:  147 Epochs:  163  Reward: -27.7 Smooth Reward: -20.4  Epsilon: 0.0000\n",
      "Episode:  148 Epochs:  194  Reward: -51.3 Smooth Reward: -49.2  Epsilon: 0.0000\n",
      "Episode:  149 Epochs:  134  Reward: -22.1 Smooth Reward: -50.9  Epsilon: 0.0000\n",
      "Episode:  150 Epochs:  172  Reward: -20.5 Smooth Reward: -55.8  Epsilon: 0.0000\n",
      "Episode:  151 Epochs:  181  Reward: -88.4 Smooth Reward: -63.5  Epsilon: 0.0000\n",
      "Episode:  152 Epochs:  152  Reward: -200.3 Smooth Reward: -77.1  Epsilon: 0.0000\n",
      "Episode:  153 Epochs:  1000  Reward: 37.5 Smooth Reward: -72.8  Epsilon: 0.0000\n",
      "Episode:  154 Epochs:  121  Reward: 25.1 Smooth Reward: -65.2  Epsilon: 0.0000\n",
      "Episode:  155 Epochs:  86  Reward: -48.1 Smooth Reward: -46.6  Epsilon: 0.0000\n",
      "Episode:  156 Epochs:  127  Reward: -32.0 Smooth Reward: -42.8  Epsilon: 0.0000\n",
      "Episode:  157 Epochs:  167  Reward: -8.7 Smooth Reward: -40.9  Epsilon: 0.0000\n",
      "Episode:  158 Epochs:  192  Reward: -7.4 Smooth Reward: -36.5  Epsilon: 0.0000\n",
      "Episode:  159 Epochs:  227  Reward: -17.7 Smooth Reward: -36.0  Epsilon: 0.0000\n",
      "Episode:  160 Epochs:  317  Reward: -42.3 Smooth Reward: -38.2  Epsilon: 0.0000\n",
      "Episode:  161 Epochs:  260  Reward: 36.2 Smooth Reward: -25.8  Epsilon: 0.0000\n",
      "Episode:  162 Epochs:  185  Reward: 4.4 Smooth Reward: -5.3  Epsilon: 0.0000\n",
      "Episode:  163 Epochs:  114  Reward: 62.6 Smooth Reward: -2.8  Epsilon: 0.0000\n",
      "Episode:  164 Epochs:  277  Reward: -63.5 Smooth Reward: -11.6  Epsilon: 0.0000\n",
      "Episode:  165 Epochs:  222  Reward: 23.3 Smooth Reward: -4.5  Epsilon: 0.0000\n",
      "Episode:  166 Epochs:  111  Reward: 1.4 Smooth Reward: -1.2  Epsilon: 0.0000\n",
      "Episode:  167 Epochs:  140  Reward: -11.3 Smooth Reward: -1.4  Epsilon: 0.0000\n",
      "Episode:  168 Epochs:  127  Reward: -31.8 Smooth Reward: -3.9  Epsilon: 0.0000\n",
      "Episode:  169 Epochs:  152  Reward: -41.3 Smooth Reward: -6.2  Epsilon: 0.0000\n",
      "Episode:  170 Epochs:  157  Reward: 34.4 Smooth Reward: 1.4  Epsilon: 0.0000\n",
      "Episode:  171 Epochs:  101  Reward: 1.1 Smooth Reward: -2.1  Epsilon: 0.0000\n",
      "Episode:  172 Epochs:  114  Reward: 13.6 Smooth Reward: -1.1  Epsilon: 0.0000\n",
      "Episode:  173 Epochs:  119  Reward: 44.2 Smooth Reward: -3.0  Epsilon: 0.0000\n",
      "Episode:  174 Epochs:  170  Reward: 13.5 Smooth Reward: 4.7  Epsilon: 0.0000\n",
      "Episode:  175 Epochs:  169  Reward: 69.6 Smooth Reward: 9.3  Epsilon: 0.0000\n",
      "Episode:  176 Epochs:  133  Reward: 30.5 Smooth Reward: 12.3  Epsilon: 0.0000\n",
      "Episode:  177 Epochs:  128  Reward: -42.8 Smooth Reward: 9.1  Epsilon: 0.0000\n",
      "Episode:  178 Epochs:  90  Reward: 68.8 Smooth Reward: 19.2  Epsilon: 0.0000\n",
      "Episode:  179 Epochs:  151  Reward: 31.1 Smooth Reward: 26.4  Epsilon: 0.0000\n",
      "Episode:  180 Epochs:  278  Reward: 39.5 Smooth Reward: 26.9  Epsilon: 0.0000\n",
      "Episode:  181 Epochs:  164  Reward: 56.3 Smooth Reward: 32.4  Epsilon: 0.0000\n",
      "Episode:  182 Epochs:  150  Reward: 25.0 Smooth Reward: 33.6  Epsilon: 0.0000\n",
      "Episode:  183 Epochs:  310  Reward: 213.5 Smooth Reward: 50.5  Epsilon: 0.0000\n",
      "Episode:  184 Epochs:  395  Reward: -133.9 Smooth Reward: 35.8  Epsilon: 0.0000\n",
      "Episode:  185 Epochs:  864  Reward: -180.9 Smooth Reward: 10.7  Epsilon: 0.0000\n",
      "Episode:  186 Epochs:  157  Reward: -46.2 Smooth Reward: 3.0  Epsilon: 0.0000\n",
      "Episode:  187 Epochs:  238  Reward: -54.7 Smooth Reward: 1.8  Epsilon: 0.0000\n",
      "Episode:  188 Epochs:  243  Reward: -52.8 Smooth Reward: -10.3  Epsilon: 0.0000\n",
      "Episode:  189 Epochs:  299  Reward: -36.7 Smooth Reward: -17.1  Epsilon: 0.0000\n",
      "Episode:  190 Epochs:  946  Reward: -276.8 Smooth Reward: -48.7  Epsilon: 0.0000\n",
      "Episode:  191 Epochs:  299  Reward: -24.3 Smooth Reward: -56.8  Epsilon: 0.0000\n",
      "Episode:  192 Epochs:  1000  Reward: -151.3 Smooth Reward: -74.4  Epsilon: 0.0000\n",
      "Episode:  193 Epochs:  695  Reward: -197.5 Smooth Reward: -115.5  Epsilon: 0.0000\n",
      "Episode:  194 Epochs:  143  Reward: 21.3 Smooth Reward: -100.0  Epsilon: 0.0000\n",
      "Episode:  195 Epochs:  239  Reward: 249.8 Smooth Reward: -56.9  Epsilon: 0.0000\n",
      "Episode:  196 Epochs:  478  Reward: -51.4 Smooth Reward: -57.4  Epsilon: 0.0000\n",
      "Episode:  197 Epochs:  130  Reward: -85.4 Smooth Reward: -60.5  Epsilon: 0.0000\n",
      "Episode:  198 Epochs:  1000  Reward: 51.4 Smooth Reward: -50.1  Epsilon: 0.0000\n",
      "Episode:  199 Epochs:  1000  Reward: 131.4 Smooth Reward: -33.3  Epsilon: 0.0000\n",
      "Episode:  200 Epochs:  133  Reward: -9.1 Smooth Reward: -6.5  Epsilon: 0.0000\n",
      "Episode:  201 Epochs:  179  Reward: 12.4 Smooth Reward: -2.8  Epsilon: 0.0000\n",
      "Episode:  202 Epochs:  165  Reward: 19.4 Smooth Reward: 14.2  Epsilon: 0.0000\n",
      "Episode:  203 Epochs:  256  Reward: 29.0 Smooth Reward: 36.9  Epsilon: 0.0000\n",
      "Episode:  204 Epochs:  1000  Reward: 109.1 Smooth Reward: 45.7  Epsilon: 0.0000\n",
      "Episode:  205 Epochs:  324  Reward: 233.3 Smooth Reward: 44.0  Epsilon: 0.0000\n",
      "Episode:  206 Epochs:  320  Reward: 251.9 Smooth Reward: 74.3  Epsilon: 0.0000\n",
      "Episode:  207 Epochs:  125  Reward: 31.6 Smooth Reward: 86.0  Epsilon: 0.0000\n",
      "Episode:  208 Epochs:  230  Reward: -124.5 Smooth Reward: 68.4  Epsilon: 0.0000\n"
     ]
    },
    {
     "name": "stdout",
     "output_type": "stream",
     "text": [
      "Episode:  209 Epochs:  196  Reward: -10.7 Smooth Reward: 54.2  Epsilon: 0.0000\n",
      "Episode:  210 Epochs:  114  Reward: -28.7 Smooth Reward: 52.3  Epsilon: 0.0000\n",
      "Episode:  211 Epochs:  104  Reward: -27.8 Smooth Reward: 48.2  Epsilon: 0.0000\n",
      "Episode:  212 Epochs:  103  Reward: 7.1 Smooth Reward: 47.0  Epsilon: 0.0000\n",
      "Episode:  213 Epochs:  69  Reward: -58.8 Smooth Reward: 38.2  Epsilon: 0.0000\n",
      "Episode:  214 Epochs:  100  Reward: -47.9 Smooth Reward: 22.5  Epsilon: 0.0000\n",
      "Episode:  215 Epochs:  107  Reward: -55.4 Smooth Reward: -6.3  Epsilon: 0.0000\n",
      "Episode:  216 Epochs:  101  Reward: -50.1 Smooth Reward: -36.5  Epsilon: 0.0000\n",
      "Episode:  217 Epochs:  116  Reward: 10.0 Smooth Reward: -38.7  Epsilon: 0.0000\n",
      "Episode:  218 Epochs:  93  Reward: 48.9 Smooth Reward: -21.3  Epsilon: 0.0000\n",
      "Episode:  219 Epochs:  148  Reward: -1.5 Smooth Reward: -20.4  Epsilon: 0.0000\n",
      "Episode:  220 Epochs:  126  Reward: -45.3 Smooth Reward: -22.1  Epsilon: 0.0000\n",
      "Episode:  221 Epochs:  86  Reward: -64.1 Smooth Reward: -25.7  Epsilon: 0.0000\n",
      "Episode:  222 Epochs:  67  Reward: -75.5 Smooth Reward: -34.0  Epsilon: 0.0000\n",
      "Episode:  223 Epochs:  153  Reward: -127.3 Smooth Reward: -40.8  Epsilon: 0.0000\n",
      "Episode:  224 Epochs:  133  Reward: 15.7 Smooth Reward: -34.5  Epsilon: 0.0000\n",
      "Episode:  225 Epochs:  106  Reward: 2.7 Smooth Reward: -28.6  Epsilon: 0.0000\n",
      "Episode:  226 Epochs:  68  Reward: -24.5 Smooth Reward: -26.1  Epsilon: 0.0000\n",
      "Episode:  227 Epochs:  119  Reward: -0.0 Smooth Reward: -27.1  Epsilon: 0.0000\n",
      "Episode:  228 Epochs:  109  Reward: -34.7 Smooth Reward: -35.4  Epsilon: 0.0000\n",
      "Episode:  229 Epochs:  111  Reward: 40.4 Smooth Reward: -31.3  Epsilon: 0.0000\n",
      "Episode:  230 Epochs:  93  Reward: -32.4 Smooth Reward: -30.0  Epsilon: 0.0000\n",
      "Episode:  231 Epochs:  129  Reward: 33.9 Smooth Reward: -20.2  Epsilon: 0.0000\n",
      "Episode:  232 Epochs:  98  Reward: -4.6 Smooth Reward: -13.1  Epsilon: 0.0000\n",
      "Episode:  233 Epochs:  72  Reward: -26.5 Smooth Reward: -3.0  Epsilon: 0.0000\n",
      "Episode:  234 Epochs:  75  Reward: 0.3 Smooth Reward: -4.5  Epsilon: 0.0000\n",
      "Episode:  235 Epochs:  94  Reward: -51.9 Smooth Reward: -10.0  Epsilon: 0.0000\n",
      "Episode:  236 Epochs:  72  Reward: -36.7 Smooth Reward: -11.2  Epsilon: 0.0000\n",
      "Episode:  237 Epochs:  132  Reward: 9.1 Smooth Reward: -10.3  Epsilon: 0.0000\n",
      "Episode:  238 Epochs:  125  Reward: -12.4 Smooth Reward: -8.1  Epsilon: 0.0000\n",
      "Episode:  239 Epochs:  108  Reward: -50.3 Smooth Reward: -17.2  Epsilon: 0.0000\n",
      "Episode:  240 Epochs:  71  Reward: -83.5 Smooth Reward: -22.3  Epsilon: 0.0000\n",
      "Episode:  241 Epochs:  78  Reward: -17.1 Smooth Reward: -27.4  Epsilon: 0.0000\n",
      "Episode:  242 Epochs:  79  Reward: -51.1 Smooth Reward: -32.0  Epsilon: 0.0000\n",
      "Episode:  243 Epochs:  81  Reward: -109.7 Smooth Reward: -40.3  Epsilon: 0.0000\n",
      "Episode:  244 Epochs:  98  Reward: -16.6 Smooth Reward: -42.0  Epsilon: 0.0000\n",
      "Episode:  245 Epochs:  65  Reward: -100.4 Smooth Reward: -46.9  Epsilon: 0.0000\n",
      "Episode:  246 Epochs:  95  Reward: -84.9 Smooth Reward: -51.7  Epsilon: 0.0000\n",
      "Episode:  247 Epochs:  57  Reward: -53.8 Smooth Reward: -58.0  Epsilon: 0.0000\n",
      "Episode:  248 Epochs:  85  Reward: -16.5 Smooth Reward: -58.4  Epsilon: 0.0000\n",
      "Episode:  249 Epochs:  101  Reward: -35.3 Smooth Reward: -56.9  Epsilon: 0.0000\n",
      "Episode:  250 Epochs:  99  Reward: -74.8 Smooth Reward: -56.0  Epsilon: 0.0000\n"
     ]
    }
   ],
   "source": [
    "problem.solve(episodes=250, skip_states=3, render=False, render_after=200)"
   ]
  },
  {
   "cell_type": "markdown",
   "id": "db51d8f4",
   "metadata": {},
   "source": [
    "Runing the agent in exploitation mode over the environment to see the final performance."
   ]
  },
  {
   "cell_type": "code",
   "execution_count": 9,
   "id": "bb04fc13",
   "metadata": {},
   "outputs": [
    {
     "name": "stdout",
     "output_type": "stream",
     "text": [
      "Test episode:  1 Epochs:  131  Reward: 17.4 Smooth Reward: 17.4  Epsilon: 0.0000\n",
      "Test episode:  2 Epochs:  164  Reward: 34.3 Smooth Reward: 25.8  Epsilon: 0.0000\n",
      "Test episode:  3 Epochs:  132  Reward: 16.9 Smooth Reward: 22.9  Epsilon: 0.0000\n",
      "Test episode:  4 Epochs:  142  Reward: -17.5 Smooth Reward: 12.8  Epsilon: 0.0000\n"
     ]
    }
   ],
   "source": [
    "problem.test(n_iter=4, render=True)"
   ]
  },
  {
   "cell_type": "code",
   "execution_count": 10,
   "id": "b39b722f",
   "metadata": {},
   "outputs": [
    {
     "data": {
      "image/png": "[encoded data removed]",
      "text/plain": [
       "<Figure size 432x288 with 1 Axes>"
      ]
     },
     "metadata": {
      "needs_background": "light"
     },
     "output_type": "display_data"
    }
   ],
   "source": [
    "hist = problem.get_histogram_metrics()\n",
    "history_utils.plot_reward_hist(hist, 10)"
   ]
  },
  {
   "cell_type": "markdown",
   "id": "eb9bd706",
   "metadata": {},
   "source": []
  },
  {
   "cell_type": "code",
   "execution_count": null,
   "id": "1dd336e1",
   "metadata": {},
   "outputs": [],
   "source": [
    "agent_saver.save(agent, 'agent_dpg_lunar.json')"
   ]
  }
 ],
 "metadata": {
  "kernelspec": {
   "display_name": "Python 3 (ipykernel)",
   "language": "python",
   "name": "python3"
  },
  "language_info": {
   "codemirror_mode": {
    "name": "ipython",
    "version": 3
   },
   "file_extension": ".py",
   "mimetype": "text/x-python",
   "name": "python",
   "nbconvert_exporter": "python",
   "pygments_lexer": "ipython3",
   "version": "3.7.10"
  }
 },
 "nbformat": 4,
 "nbformat_minor": 5
}

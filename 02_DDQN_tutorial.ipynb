{
 "cells": [
  {
   "cell_type": "markdown",
   "id": "4475dca6",
   "metadata": {},
   "source": [
    "# Define a simple Neural Network with Double Deep Q Network (DDQN)\n",
    "\n",
    "In this tutorial we show how to use our interface for defining the neural network architecture without knowing Tensor FLow or Keras. In this case, we use the Double Deep Q Network (DDQN) agent from CAPOIRL library to address again the Cart Pole problem."
   ]
  },
  {
   "cell_type": "code",
   "execution_count": 6,
   "id": "6c5807e7",
   "metadata": {},
   "outputs": [],
   "source": [
    "from RL_Problem import rl_problem\n",
    "from RL_Agent import ddqn_agent\n",
    "from RL_Problem.base.ValueBased import dqn_problem\n",
    "from RL_Agent.base.utils import agent_saver, history_utils\n",
    "from RL_Agent.base.utils.networks import networks\n",
    "\n",
    "import gym"
   ]
  },
  {
   "cell_type": "markdown",
   "id": "081e9e99",
   "metadata": {},
   "source": [
    "In the next cell, we defined the environment. We use the CartPole environment the Gym library from OpenAI, this is a discrete environment were the posibles actions are: 1) move the cart to the left, move the cart to the rigth. The forces needed to move the cart are automaticatly calculated by the environment. The reward function provides a value of +1 every time step the car is upritgh. An episode ends when the pole is too far from the vertical, go outside of the screem or after 500 timesteps.\n",
    "\n",
    "Our library is compatible with all Gym environments and use a compatible interfaz based in Gym's one, for defining your own envirinments. "
   ]
  },
  {
   "cell_type": "code",
   "execution_count": 3,
   "id": "ad80212f",
   "metadata": {},
   "outputs": [],
   "source": [
    "environment = \"CartPole-v1\"\n",
    "environment = gym.make(environment)"
   ]
  },
  {
   "cell_type": "markdown",
   "id": "40d8274d",
   "metadata": {},
   "source": [
    "CAPOIRL have a very simple interfaz to define neural networks based in dictionaries. This is oriented to people with low experience with neural network, those which have never used the deep learning libraries or modules compatibles with CAPOIRL (Tensor Flow and Keras) and for fast prototyping."
   ]
  },
  {
   "cell_type": "code",
   "execution_count": 4,
   "id": "d071ddc8",
   "metadata": {},
   "outputs": [],
   "source": [
    "net_architecture =  {\"dense_lay\": 2,\n",
    "                    \"n_neurons\": [128, 128],\n",
    "                    \"dense_activation\": ['relu', 'tanh']\n",
    "                    }\n"
   ]
  },
  {
   "cell_type": "markdown",
   "id": "7c8ff59e",
   "metadata": {},
   "source": [
    "We provide some functions to define the dictionaries without the necessity or remember all the keys. This funcionality can be imported as \"from RL_Agent.base.utils.networks import networks\" and it is a compilation of functions to create dictionies compatibles with each kind of RL agent.\n",
    "\n",
    "The next cell redefines \"net_architecture\" using the DDQN function."
   ]
  },
  {
   "cell_type": "code",
   "execution_count": 7,
   "id": "1cadbd0b",
   "metadata": {},
   "outputs": [],
   "source": [
    "net_architecture = networks.double_dqn_net(dense_layers=2,\n",
    "                                           n_neurons=[128, 128],\n",
    "                                           dense_activation=['relu', 'tanh'])"
   ]
  },
  {
   "cell_type": "markdown",
   "id": "69c75bf8",
   "metadata": {},
   "source": [
    "Here we define the RL agent that we are going to use. In this case, we selected a DDQN agent which is an improvement over DQN.\n",
    "\n",
    "The agent is defined configuring a few parameters:\n",
    "\n",
    "* learning_rate: learning rate for training the neural network.\n",
    "* batch_size: Size of the batches used for training the neural network. \n",
    "* epsilon: Determines the amount of exploration (float between [0, 1]). 0 -> Full Exploitation; 1 -> Full exploration.\n",
    "* epsilon_decay: Decay factor of the epsilon. In each iteration we calculate the new epslon value as: epsilon' = epsilon * epsilon_decay.\n",
    "* esilon_min: minimun value epsilon can reach during the training procedure.\n",
    "* n_stack: number of stacked timesteps to form the state\n",
    "* net_architecture: net architecture defined before.\n",
    "\n",
    "Here we notice two new parameters:\n",
    "\n",
    "\"net_architecture\" is used to set the network architecture that we have defined before. In this example is a dictionarie but in latter tutorials we will see how we can define more complex networks using keras or tensorflow.\n",
    "\n",
    "\"n_ stack\" is a parameter used to incorporate temporal information into the states. By default n_stack = 1, this means that the state will be formed only by the current state out of the environment. Where n_stack = n, being n > 1, the state will be formed by the n last states stacked. This means, the current state out of the environment, the state in timestep -1, in timestep -2 , ..., to timestep - (n-1). If n=5 the state will be formed by the 5 last states and will have saphe (5, state_size)."
   ]
  },
  {
   "cell_type": "code",
   "execution_count": 8,
   "id": "cf0d9f7f",
   "metadata": {},
   "outputs": [],
   "source": [
    "agent = ddqn_agent.Agent(learning_rate=1e-3,\n",
    "                         batch_size=128,\n",
    "                         epsilon=0.4,\n",
    "                         epsilon_decay=0.999,\n",
    "                         epsilon_min=0.15,\n",
    "                         n_stack=5,\n",
    "                         net_architecture=net_architecture)"
   ]
  },
  {
   "cell_type": "markdown",
   "id": "8eb2c1e9",
   "metadata": {},
   "source": [
    "Creating a RL problem were the comunications between agent and environment are managed."
   ]
  },
  {
   "cell_type": "code",
   "execution_count": 9,
   "id": "62088456",
   "metadata": {},
   "outputs": [],
   "source": [
    "problem = dqn_problem.DQNProblem(environment, agent)"
   ]
  },
  {
   "cell_type": "markdown",
   "id": "994a7180",
   "metadata": {},
   "source": [
    "Next step is solving the RL problem that we have define. Here we specify the number of episodes, the render boolean, the verbosity of the function and finally the skip_states parameter. \n",
    "\n",
    "The skip_states parameters have value 1 by default, this means that the agent will select an ation every timestep to be executed in the environment. When skip_states = n being n > 1, an action selected by the agent will be executed n timesteps and then the actor will select another action. This allows a faster collection of experiences during training procedure avoiding execute the neural network each timestep. \n",
    "\n",
    "This state skipping technique is introduced by Mnih, V., Kavukcuoglu, K., Silver, D. et al. Human-level control through deep reinforcement learning. Nature 518, 529–533 (2015).\n",
    "            https://doi.org/10.1038/nature14236If."
   ]
  },
  {
   "cell_type": "code",
   "execution_count": 10,
   "id": "66ffd786",
   "metadata": {},
   "outputs": [
    {
     "name": "stdout",
     "output_type": "stream",
     "text": [
      "Episode:  1 Epochs:  10  Reward: 10.0 Smooth Reward: 10.0  Epsilon: 0.4000\n",
      "Episode:  2 Epochs:  32  Reward: 32.0 Smooth Reward: 21.0  Epsilon: 0.4000\n",
      "Episode:  3 Epochs:  18  Reward: 18.0 Smooth Reward: 20.0  Epsilon: 0.4000\n",
      "Episode:  4 Epochs:  10  Reward: 10.0 Smooth Reward: 17.5  Epsilon: 0.4000\n",
      "Episode:  5 Epochs:  37  Reward: 37.0 Smooth Reward: 21.4  Epsilon: 0.4000\n",
      "Episode:  6 Epochs:  10  Reward: 10.0 Smooth Reward: 19.5  Epsilon: 0.4000\n",
      "Episode:  7 Epochs:  12  Reward: 12.0 Smooth Reward: 18.4  Epsilon: 0.4000\n",
      "Episode:  8 Epochs:  17  Reward: 17.0 Smooth Reward: 18.2  Epsilon: 0.4000\n",
      "Episode:  9 Epochs:  14  Reward: 14.0 Smooth Reward: 17.8  Epsilon: 0.4000\n",
      "Episode:  10 Epochs:  10  Reward: 10.0 Smooth Reward: 17.0  Epsilon: 0.4000\n",
      "Episode:  11 Epochs:  9  Reward: 9.0 Smooth Reward: 16.9  Epsilon: 0.4000\n",
      "Episode:  12 Epochs:  9  Reward: 9.0 Smooth Reward: 14.6  Epsilon: 0.4000\n",
      "Episode:  13 Epochs:  20  Reward: 20.0 Smooth Reward: 14.8  Epsilon: 0.4000\n",
      "Episode:  14 Epochs:  32  Reward: 32.0 Smooth Reward: 17.0  Epsilon: 0.4000\n",
      "Episode:  15 Epochs:  40  Reward: 40.0 Smooth Reward: 17.3  Epsilon: 0.4000\n",
      "Episode:  16 Epochs:  27  Reward: 27.0 Smooth Reward: 19.0  Epsilon: 0.4000\n",
      "Episode:  17 Epochs:  16  Reward: 16.0 Smooth Reward: 19.4  Epsilon: 0.4000\n",
      "Episode:  18 Epochs:  9  Reward: 9.0 Smooth Reward: 18.6  Epsilon: 0.4000\n",
      "Episode:  19 Epochs:  26  Reward: 26.0 Smooth Reward: 19.8  Epsilon: 0.4000\n",
      "Episode:  20 Epochs:  10  Reward: 10.0 Smooth Reward: 19.8  Epsilon: 0.3992\n",
      "Episode:  21 Epochs:  11  Reward: 11.0 Smooth Reward: 20.0  Epsilon: 0.3976\n",
      "Episode:  22 Epochs:  10  Reward: 10.0 Smooth Reward: 20.1  Epsilon: 0.3960\n",
      "Episode:  23 Epochs:  10  Reward: 10.0 Smooth Reward: 19.1  Epsilon: 0.3944\n",
      "Episode:  24 Epochs:  10  Reward: 10.0 Smooth Reward: 16.9  Epsilon: 0.3929\n",
      "Episode:  25 Epochs:  34  Reward: 34.0 Smooth Reward: 16.3  Epsilon: 0.3882\n",
      "Episode:  26 Epochs:  21  Reward: 21.0 Smooth Reward: 15.7  Epsilon: 0.3855\n",
      "Episode:  27 Epochs:  11  Reward: 11.0 Smooth Reward: 15.2  Epsilon: 0.3839\n",
      "Episode:  28 Epochs:  11  Reward: 11.0 Smooth Reward: 15.4  Epsilon: 0.3824\n",
      "Episode:  29 Epochs:  12  Reward: 12.0 Smooth Reward: 14.0  Epsilon: 0.3809\n",
      "Episode:  30 Epochs:  30  Reward: 30.0 Smooth Reward: 16.0  Epsilon: 0.3771\n",
      "Episode:  31 Epochs:  98  Reward: 98.0 Smooth Reward: 24.7  Epsilon: 0.3648\n",
      "Episode:  32 Epochs:  19  Reward: 19.0 Smooth Reward: 25.6  Epsilon: 0.3623\n",
      "Episode:  33 Epochs:  20  Reward: 20.0 Smooth Reward: 26.6  Epsilon: 0.3598\n",
      "Episode:  34 Epochs:  9  Reward: 9.0 Smooth Reward: 26.5  Epsilon: 0.3587\n",
      "Episode:  35 Epochs:  36  Reward: 36.0 Smooth Reward: 26.7  Epsilon: 0.3544\n",
      "Episode:  36 Epochs:  43  Reward: 43.0 Smooth Reward: 28.9  Epsilon: 0.3491\n",
      "Episode:  37 Epochs:  22  Reward: 22.0 Smooth Reward: 30.0  Epsilon: 0.3463\n",
      "Episode:  38 Epochs:  10  Reward: 10.0 Smooth Reward: 29.9  Epsilon: 0.3449\n",
      "Episode:  39 Epochs:  10  Reward: 10.0 Smooth Reward: 29.7  Epsilon: 0.3436\n",
      "Episode:  40 Epochs:  39  Reward: 39.0 Smooth Reward: 30.6  Epsilon: 0.3391\n",
      "Episode:  41 Epochs:  11  Reward: 11.0 Smooth Reward: 21.9  Epsilon: 0.3378\n",
      "Episode:  42 Epochs:  13  Reward: 13.0 Smooth Reward: 21.3  Epsilon: 0.3361\n",
      "Episode:  43 Epochs:  13  Reward: 13.0 Smooth Reward: 20.6  Epsilon: 0.3344\n",
      "Episode:  44 Epochs:  17  Reward: 17.0 Smooth Reward: 21.4  Epsilon: 0.3324\n",
      "Episode:  45 Epochs:  25  Reward: 25.0 Smooth Reward: 20.3  Epsilon: 0.3294\n",
      "Episode:  46 Epochs:  19  Reward: 19.0 Smooth Reward: 17.9  Epsilon: 0.3271\n",
      "Episode:  47 Epochs:  19  Reward: 19.0 Smooth Reward: 17.6  Epsilon: 0.3248\n",
      "Episode:  48 Epochs:  20  Reward: 20.0 Smooth Reward: 18.6  Epsilon: 0.3226\n",
      "Episode:  49 Epochs:  36  Reward: 36.0 Smooth Reward: 21.2  Epsilon: 0.3187\n",
      "Episode:  50 Epochs:  43  Reward: 43.0 Smooth Reward: 21.6  Epsilon: 0.3140\n",
      "Episode:  51 Epochs:  30  Reward: 30.0 Smooth Reward: 23.5  Epsilon: 0.3109\n",
      "Episode:  52 Epochs:  17  Reward: 17.0 Smooth Reward: 23.9  Epsilon: 0.3090\n",
      "Episode:  53 Epochs:  28  Reward: 28.0 Smooth Reward: 25.4  Epsilon: 0.3059\n",
      "Episode:  54 Epochs:  31  Reward: 31.0 Smooth Reward: 26.8  Epsilon: 0.3026\n",
      "Episode:  55 Epochs:  26  Reward: 26.0 Smooth Reward: 26.9  Epsilon: 0.2999\n",
      "Episode:  56 Epochs:  50  Reward: 50.0 Smooth Reward: 30.0  Epsilon: 0.2948\n",
      "Episode:  57 Epochs:  14  Reward: 14.0 Smooth Reward: 29.5  Epsilon: 0.2933\n",
      "Episode:  58 Epochs:  25  Reward: 25.0 Smooth Reward: 30.0  Epsilon: 0.2907\n",
      "Episode:  59 Epochs:  62  Reward: 62.0 Smooth Reward: 32.6  Epsilon: 0.2847\n",
      "Episode:  60 Epochs:  30  Reward: 30.0 Smooth Reward: 31.3  Epsilon: 0.2818\n",
      "Episode:  61 Epochs:  19  Reward: 19.0 Smooth Reward: 30.2  Epsilon: 0.2799\n",
      "Episode:  62 Epochs:  31  Reward: 31.0 Smooth Reward: 31.6  Epsilon: 0.2768\n",
      "Episode:  63 Epochs:  49  Reward: 49.0 Smooth Reward: 33.7  Epsilon: 0.2721\n",
      "Episode:  64 Epochs:  47  Reward: 47.0 Smooth Reward: 35.3  Epsilon: 0.2678\n",
      "Episode:  65 Epochs:  10  Reward: 10.0 Smooth Reward: 33.7  Epsilon: 0.2667\n",
      "Episode:  66 Epochs:  15  Reward: 15.0 Smooth Reward: 30.2  Epsilon: 0.2654\n",
      "Episode:  67 Epochs:  71  Reward: 71.0 Smooth Reward: 35.9  Epsilon: 0.2591\n",
      "Episode:  68 Epochs:  59  Reward: 59.0 Smooth Reward: 39.3  Epsilon: 0.2540\n",
      "Episode:  69 Epochs:  48  Reward: 48.0 Smooth Reward: 37.9  Epsilon: 0.2499\n",
      "Episode:  70 Epochs:  21  Reward: 21.0 Smooth Reward: 37.0  Epsilon: 0.2482\n",
      "Episode:  71 Epochs:  51  Reward: 51.0 Smooth Reward: 40.2  Epsilon: 0.2440\n",
      "Episode:  72 Epochs:  27  Reward: 27.0 Smooth Reward: 39.8  Epsilon: 0.2418\n",
      "Episode:  73 Epochs:  89  Reward: 89.0 Smooth Reward: 43.8  Epsilon: 0.2347\n",
      "Episode:  74 Epochs:  54  Reward: 54.0 Smooth Reward: 44.5  Epsilon: 0.2305\n",
      "Episode:  75 Epochs:  149  Reward: 149.0 Smooth Reward: 58.4  Epsilon: 0.2192\n",
      "Episode:  76 Epochs:  117  Reward: 117.0 Smooth Reward: 68.6  Epsilon: 0.2108\n",
      "Episode:  77 Epochs:  90  Reward: 90.0 Smooth Reward: 70.5  Epsilon: 0.2046\n",
      "Episode:  78 Epochs:  190  Reward: 190.0 Smooth Reward: 83.6  Epsilon: 0.1919\n",
      "Episode:  79 Epochs:  25  Reward: 25.0 Smooth Reward: 81.3  Epsilon: 0.1902\n",
      "Episode:  80 Epochs:  95  Reward: 95.0 Smooth Reward: 88.7  Epsilon: 0.1842\n",
      "Episode:  81 Epochs:  56  Reward: 56.0 Smooth Reward: 89.2  Epsilon: 0.1807\n",
      "Episode:  82 Epochs:  23  Reward: 23.0 Smooth Reward: 88.8  Epsilon: 0.1793\n",
      "Episode:  83 Epochs:  178  Reward: 178.0 Smooth Reward: 97.7  Epsilon: 0.1689\n",
      "Episode:  84 Epochs:  37  Reward: 37.0 Smooth Reward: 96.0  Epsilon: 0.1667\n",
      "Episode:  85 Epochs:  208  Reward: 208.0 Smooth Reward: 101.9  Epsilon: 0.1554\n",
      "Episode:  86 Epochs:  77  Reward: 77.0 Smooth Reward: 97.9  Epsilon: 0.1514\n",
      "Episode:  87 Epochs:  9  Reward: 9.0 Smooth Reward: 89.8  Epsilon: 0.1510\n",
      "Episode:  88 Epochs:  78  Reward: 78.0 Smooth Reward: 78.6  Epsilon: 0.1499\n",
      "Episode:  89 Epochs:  85  Reward: 85.0 Smooth Reward: 84.6  Epsilon: 0.1499\n",
      "Episode:  90 Epochs:  84  Reward: 84.0 Smooth Reward: 83.5  Epsilon: 0.1499\n",
      "Episode:  91 Epochs:  10  Reward: 10.0 Smooth Reward: 78.9  Epsilon: 0.1499\n",
      "Episode:  92 Epochs:  30  Reward: 30.0 Smooth Reward: 79.6  Epsilon: 0.1499\n",
      "Episode:  93 Epochs:  219  Reward: 219.0 Smooth Reward: 83.7  Epsilon: 0.1499\n",
      "Episode:  94 Epochs:  260  Reward: 260.0 Smooth Reward: 106.0  Epsilon: 0.1499\n",
      "Episode:  95 Epochs:  58  Reward: 58.0 Smooth Reward: 91.0  Epsilon: 0.1499\n",
      "Episode:  96 Epochs:  335  Reward: 335.0 Smooth Reward: 116.8  Epsilon: 0.1499\n",
      "Episode:  97 Epochs:  205  Reward: 205.0 Smooth Reward: 136.4  Epsilon: 0.1499\n",
      "Episode:  98 Epochs:  211  Reward: 211.0 Smooth Reward: 149.7  Epsilon: 0.1499\n",
      "Episode:  99 Epochs:  37  Reward: 37.0 Smooth Reward: 144.9  Epsilon: 0.1499\n",
      "Episode:  100 Epochs:  71  Reward: 71.0 Smooth Reward: 143.6  Epsilon: 0.1499\n"
     ]
    }
   ],
   "source": [
    "problem.solve(episodes=100, render=True, skip_states=3)"
   ]
  },
  {
   "cell_type": "markdown",
   "id": "7feb784d",
   "metadata": {},
   "source": [
    "The next cell run n iterations in fully explorative mode to check the performance obtained by the agent. It will be rendered by default."
   ]
  },
  {
   "cell_type": "code",
   "execution_count": 11,
   "id": "f7f4f37e",
   "metadata": {},
   "outputs": [
    {
     "name": "stdout",
     "output_type": "stream",
     "text": [
      "Test episode:  1 Epochs:  500  Reward: 500.0 Smooth Reward: 500.0  Epsilon: 0.1499\n",
      "Test episode:  2 Epochs:  363  Reward: 363.0 Smooth Reward: 431.5  Epsilon: 0.1499\n",
      "Test episode:  3 Epochs:  500  Reward: 500.0 Smooth Reward: 454.3  Epsilon: 0.1499\n",
      "Test episode:  4 Epochs:  500  Reward: 500.0 Smooth Reward: 465.8  Epsilon: 0.1499\n",
      "Test episode:  5 Epochs:  500  Reward: 500.0 Smooth Reward: 472.6  Epsilon: 0.1499\n",
      "Test episode:  6 Epochs:  464  Reward: 464.0 Smooth Reward: 471.2  Epsilon: 0.1499\n",
      "Test episode:  7 Epochs:  500  Reward: 500.0 Smooth Reward: 475.3  Epsilon: 0.1499\n",
      "Test episode:  8 Epochs:  500  Reward: 500.0 Smooth Reward: 478.4  Epsilon: 0.1499\n",
      "Test episode:  9 Epochs:  500  Reward: 500.0 Smooth Reward: 480.8  Epsilon: 0.1499\n",
      "Test episode:  10 Epochs:  500  Reward: 500.0 Smooth Reward: 482.7  Epsilon: 0.1499\n"
     ]
    }
   ],
   "source": [
    "problem.test(n_iter=10)"
   ]
  },
  {
   "cell_type": "markdown",
   "id": "31ced52d",
   "metadata": {},
   "source": [
    "Here we show the history of rewards obtained during the epochs of the training process. Param n_moving_average select how much time states will be use to calculate a smothed versión of the data (blue line)"
   ]
  },
  {
   "cell_type": "code",
   "execution_count": 12,
   "id": "a6dc3b55",
   "metadata": {},
   "outputs": [
    {
     "data": {
      "image/png": "[encoded data removed]",
      "text/plain": [
       "<Figure size 432x288 with 1 Axes>"
      ]
     },
     "metadata": {
      "needs_background": "light"
     },
     "output_type": "display_data"
    }
   ],
   "source": [
    "hist = problem.get_histogram_metrics()\n",
    "history_utils.plot_reward_hist(hist, 10)"
   ]
  },
  {
   "cell_type": "markdown",
   "id": "f304db62",
   "metadata": {},
   "source": [
    "Run this last cell if you want to save the agent to a file."
   ]
  },
  {
   "cell_type": "code",
   "execution_count": null,
   "id": "158301d8",
   "metadata": {},
   "outputs": [],
   "source": [
    "agent_saver.save(agent, 'agent_ddqn_pole.json')"
   ]
  }
 ],
 "metadata": {
  "kernelspec": {
   "display_name": "Python 3 (ipykernel)",
   "language": "python",
   "name": "python3"
  },
  "language_info": {
   "codemirror_mode": {
    "name": "ipython",
    "version": 3
   },
   "file_extension": ".py",
   "mimetype": "text/x-python",
   "name": "python",
   "nbconvert_exporter": "python",
   "pygments_lexer": "ipython3",
   "version": "3.7.10"
  }
 },
 "nbformat": 4,
 "nbformat_minor": 5
}

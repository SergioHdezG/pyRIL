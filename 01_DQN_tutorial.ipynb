{
 "cells": [
  {
   "cell_type": "markdown",
   "id": "9ee11132",
   "metadata": {},
   "source": [
    "# Deep Q Network \n",
    "\n",
    "In this tutorial we show a naive use of CAPOIRL library to solve the Cart Pole problem throug Reinforcement Learning (RL). \n",
    "\n",
    "We use the Deep Q Network (DQN) agent in the easiest and simple form allowed, consisting of four main steps in four code lines:\n",
    "\n",
    "- Create the environment\n",
    "- Define the agent\n",
    "- Build a RL Problem given an environment and an agent\n",
    "- Solve the RL Problem"
   ]
  },
  {
   "cell_type": "code",
   "execution_count": 1,
   "id": "7daafa88",
   "metadata": {},
   "outputs": [
    {
     "name": "stderr",
     "output_type": "stream",
     "text": [
      "2021-11-29 14:41:12.824931: I tensorflow/core/platform/cpu_feature_guard.cc:143] Your CPU supports instructions that this TensorFlow binary was not compiled to use: SSE4.1 SSE4.2 AVX AVX2 FMA\n",
      "2021-11-29 14:41:13.016287: I tensorflow/core/platform/profile_utils/cpu_utils.cc:102] CPU Frequency: 2799925000 Hz\n",
      "2021-11-29 14:41:13.017541: I tensorflow/compiler/xla/service/service.cc:168] XLA service 0x564404e42c50 initialized for platform Host (this does not guarantee that XLA will be used). Devices:\n",
      "2021-11-29 14:41:13.017601: I tensorflow/compiler/xla/service/service.cc:176]   StreamExecutor device (0): Host, Default Version\n",
      "2021-11-29 14:41:13.038892: I tensorflow/core/common_runtime/process_util.cc:147] Creating new thread pool with default inter op setting: 2. Tune using inter_op_parallelism_threads for best performance.\n",
      "/home/serch/anaconda3/envs/capoir/lib/python3.7/site-packages/ale_py/roms/utils.py:90: DeprecationWarning: SelectableGroups dict interface is deprecated. Use select.\n",
      "  for external in metadata.entry_points().get(self.group, []):\n"
     ]
    }
   ],
   "source": [
    "from RL_Problem import rl_problem\n",
    "from RL_Agent import dqn_agent\n",
    "from RL_Problem.base.ValueBased import dqn_problem\n",
    "from RL_Agent.base.utils import agent_saver, history_utils\n",
    "\n",
    "import gym"
   ]
  },
  {
   "cell_type": "markdown",
   "id": "ebabda33",
   "metadata": {},
   "source": [
    "The next cell defined the environment. We use the CartPole environment the Gym library from OpenAI, this is a discrete environment were the posibles actions are: 1) move the cart to the left, move the cart to the rigth. The forces needed to move the cart are automaticatly calculated by the environment. The reward function provides a value of +1 every time step the car is upritgh. An episode ends when the pole is too far from the vertical, go outside of the screem or after 500 timesteps.\n",
    "\n",
    "Our library is compatible with all Gym environments and use a compatible interfaz based in Gym's one, for defining your own envirinments. "
   ]
  },
  {
   "cell_type": "code",
   "execution_count": 2,
   "id": "0ee5ba57",
   "metadata": {},
   "outputs": [],
   "source": [
    "environment = gym.make(\"CartPole-v1\")"
   ]
  },
  {
   "cell_type": "markdown",
   "id": "eebfec50",
   "metadata": {},
   "source": [
    "Here we define the RL agent that we are going to use. In this case, we selected a DQN agent because it works very well in problems with discrete action spaces. DQN is an adaptation of Q-Learning for using neural networks and is one of the very first methods used to introduce the Reinforcement Learning paradigm. \n",
    "\n",
    "The agent is defined in the naivest way that this library allows where we only needs to configure a few parameters. The parameters used for this example are:\n",
    "\n",
    "* learning_rate: learning rate for training the neural network.\n",
    "* batch_size: Size of the batches used for training the neural network. \n",
    "* epsilon: Determines the amount of exploration (float between [0, 1]). 0 -> Full Exploitation; 1 -> Full exploration.\n",
    "* epsilon_decay: Decay factor of the epsilon. In each iteration we calculate the new epslon value as: epsilon' = epsilon * epsilon_decay.\n",
    "* esilon_min: minimun value epsilon can reach during the training procedure."
   ]
  },
  {
   "cell_type": "code",
   "execution_count": 3,
   "id": "9bf9a0b5",
   "metadata": {},
   "outputs": [],
   "source": [
    "agent = dqn_agent.Agent(learning_rate=1e-3, batch_size=128, epsilon=0.4, epsilon_decay=0.999, epsilon_min=0.15)"
   ]
  },
  {
   "cell_type": "markdown",
   "id": "30d85953",
   "metadata": {},
   "source": [
    "We need to create a RL problem were the comunications between agent and environment are managed.\n",
    "\n",
    "There are a specific problem definition for each agent that respond to the specific requeriments of each algorithm. We provides a function that automaticaly select the correct problem given a an agent from the library. This function can be imported as \"from RL_Problem.rl_problem import Problem\" and recieves the environment and the agent as inputs."
   ]
  },
  {
   "cell_type": "code",
   "execution_count": 4,
   "id": "ccee16b7",
   "metadata": {},
   "outputs": [],
   "source": [
    "problem = dqn_problem.DQNProblem(environment, agent)"
   ]
  },
  {
   "cell_type": "markdown",
   "id": "e8f62c2e",
   "metadata": {},
   "source": [
    "Next step is solving the RL problem that we have define. Here we specify the number of iteration, which conrrespond with the number of episodes that wil be executed; we also especify if we want to render the environment during the training process and the verbosity of the function. Render the environment in training mode allows us to se how the agent is learning to perform better and better but with this specific environment may make longer the training process."
   ]
  },
  {
   "cell_type": "code",
   "execution_count": 5,
   "id": "a535319a",
   "metadata": {
    "scrolled": true
   },
   "outputs": [
    {
     "name": "stdout",
     "output_type": "stream",
     "text": [
      "Episode:  1 Epochs:  23  Reward: 23.0 Smooth Reward: 23.0  Epsilon: 0.4000\n",
      "Episode:  2 Epochs:  40  Reward: 40.0 Smooth Reward: 31.5  Epsilon: 0.4000\n",
      "Episode:  3 Epochs:  17  Reward: 17.0 Smooth Reward: 26.7  Epsilon: 0.4000\n",
      "Episode:  4 Epochs:  97  Reward: 97.0 Smooth Reward: 44.2  Epsilon: 0.3809\n",
      "Episode:  5 Epochs:  10  Reward: 10.0 Smooth Reward: 37.4  Epsilon: 0.3771\n",
      "Episode:  6 Epochs:  9  Reward: 9.0 Smooth Reward: 32.7  Epsilon: 0.3737\n",
      "Episode:  7 Epochs:  10  Reward: 10.0 Smooth Reward: 29.4  Epsilon: 0.3700\n",
      "Episode:  8 Epochs:  13  Reward: 13.0 Smooth Reward: 27.4  Epsilon: 0.3652\n",
      "Episode:  9 Epochs:  10  Reward: 10.0 Smooth Reward: 25.4  Epsilon: 0.3616\n",
      "Episode:  10 Epochs:  12  Reward: 12.0 Smooth Reward: 24.1  Epsilon: 0.3572\n",
      "Episode:  11 Epochs:  10  Reward: 10.0 Smooth Reward: 22.8  Epsilon: 0.3537\n",
      "Episode:  12 Epochs:  11  Reward: 11.0 Smooth Reward: 19.9  Epsilon: 0.3498\n",
      "Episode:  13 Epochs:  28  Reward: 28.0 Smooth Reward: 21.0  Epsilon: 0.3401\n",
      "Episode:  14 Epochs:  31  Reward: 31.0 Smooth Reward: 14.4  Epsilon: 0.3298\n",
      "Episode:  15 Epochs:  27  Reward: 27.0 Smooth Reward: 16.1  Epsilon: 0.3210\n",
      "Episode:  16 Epochs:  157  Reward: 157.0 Smooth Reward: 30.9  Epsilon: 0.2743\n",
      "Episode:  17 Epochs:  40  Reward: 40.0 Smooth Reward: 33.9  Epsilon: 0.2636\n",
      "Episode:  18 Epochs:  90  Reward: 90.0 Smooth Reward: 41.6  Epsilon: 0.2409\n",
      "Episode:  19 Epochs:  128  Reward: 128.0 Smooth Reward: 53.4  Epsilon: 0.2119\n",
      "Episode:  20 Epochs:  185  Reward: 185.0 Smooth Reward: 70.7  Epsilon: 0.1761\n",
      "Episode:  21 Epochs:  128  Reward: 128.0 Smooth Reward: 82.5  Epsilon: 0.1549\n",
      "Episode:  22 Epochs:  171  Reward: 171.0 Smooth Reward: 98.5  Epsilon: 0.1499\n",
      "Episode:  23 Epochs:  155  Reward: 155.0 Smooth Reward: 111.2  Epsilon: 0.1499\n",
      "Episode:  24 Epochs:  146  Reward: 146.0 Smooth Reward: 122.7  Epsilon: 0.1499\n",
      "Episode:  25 Epochs:  205  Reward: 205.0 Smooth Reward: 140.5  Epsilon: 0.1499\n",
      "Episode:  26 Epochs:  142  Reward: 142.0 Smooth Reward: 139.0  Epsilon: 0.1499\n",
      "Episode:  27 Epochs:  201  Reward: 201.0 Smooth Reward: 155.1  Epsilon: 0.1499\n",
      "Episode:  28 Epochs:  155  Reward: 155.0 Smooth Reward: 161.6  Epsilon: 0.1499\n",
      "Episode:  29 Epochs:  166  Reward: 166.0 Smooth Reward: 165.4  Epsilon: 0.1499\n",
      "Episode:  30 Epochs:  141  Reward: 141.0 Smooth Reward: 161.0  Epsilon: 0.1499\n"
     ]
    }
   ],
   "source": [
    "problem.solve(30, render=False, verbose=1)"
   ]
  },
  {
   "cell_type": "markdown",
   "id": "68b68589",
   "metadata": {},
   "source": [
    "The next cell run n iterations in fully explorative mode to check the performance obtained by the agent. It will be rendered by default."
   ]
  },
  {
   "cell_type": "code",
   "execution_count": 6,
   "id": "f6447040",
   "metadata": {},
   "outputs": [
    {
     "name": "stdout",
     "output_type": "stream",
     "text": [
      "Test episode:  1 Epochs:  199  Reward: 199.0 Smooth Reward: 199.0  Epsilon: 0.1499\n",
      "Test episode:  2 Epochs:  157  Reward: 157.0 Smooth Reward: 178.0  Epsilon: 0.1499\n",
      "Test episode:  3 Epochs:  133  Reward: 133.0 Smooth Reward: 163.0  Epsilon: 0.1499\n",
      "Test episode:  4 Epochs:  156  Reward: 156.0 Smooth Reward: 161.2  Epsilon: 0.1499\n",
      "Test episode:  5 Epochs:  139  Reward: 139.0 Smooth Reward: 156.8  Epsilon: 0.1499\n",
      "Test episode:  6 Epochs:  154  Reward: 154.0 Smooth Reward: 156.3  Epsilon: 0.1499\n",
      "Test episode:  7 Epochs:  212  Reward: 212.0 Smooth Reward: 164.3  Epsilon: 0.1499\n",
      "Test episode:  8 Epochs:  157  Reward: 157.0 Smooth Reward: 163.4  Epsilon: 0.1499\n",
      "Test episode:  9 Epochs:  156  Reward: 156.0 Smooth Reward: 162.6  Epsilon: 0.1499\n",
      "Test episode:  10 Epochs:  201  Reward: 201.0 Smooth Reward: 166.4  Epsilon: 0.1499\n"
     ]
    }
   ],
   "source": [
    "problem.test(n_iter=10, verbose=1)"
   ]
  },
  {
   "cell_type": "markdown",
   "id": "392ec444",
   "metadata": {},
   "source": [
    "Here we show the history of rewards obtained during the epochs of the training process. Param n_moving_average select how much time states will be use to calculate a smothed versión of the data (blue line)"
   ]
  },
  {
   "cell_type": "code",
   "execution_count": 7,
   "id": "1c817be6",
   "metadata": {},
   "outputs": [
    {
     "data": {
      "image/png": "[encoded data removed]",
      "text/plain": [
       "<Figure size 432x288 with 1 Axes>"
      ]
     },
     "metadata": {
      "needs_background": "light"
     },
     "output_type": "display_data"
    }
   ],
   "source": [
    "hist = problem.get_histogram_metrics()\n",
    "history_utils.plot_reward_hist(hist, n_moving_average=10)"
   ]
  },
  {
   "cell_type": "markdown",
   "id": "67ccc320",
   "metadata": {},
   "source": [
    "Run this last cell if you want to save the agent to a file."
   ]
  },
  {
   "cell_type": "code",
   "execution_count": null,
   "id": "f5a88089",
   "metadata": {},
   "outputs": [],
   "source": [
    "agent_saver.save(agent, 'agent_dqn_lunar.json')"
   ]
  }
 ],
 "metadata": {
  "kernelspec": {
   "display_name": "Python 3 (ipykernel)",
   "language": "python",
   "name": "python3"
  },
  "language_info": {
   "codemirror_mode": {
    "name": "ipython",
    "version": 3
   },
   "file_extension": ".py",
   "mimetype": "text/x-python",
   "name": "python",
   "nbconvert_exporter": "python",
   "pygments_lexer": "ipython3",
   "version": "3.7.10"
  }
 },
 "nbformat": 4,
 "nbformat_minor": 5
}

{
 "cells": [
  {
   "cell_type": "code",
   "execution_count": 1,
   "id": "aa5d1256",
   "metadata": {},
   "outputs": [
    {
     "name": "stderr",
     "output_type": "stream",
     "text": [
      "2021-11-30 17:10:35.086970: I tensorflow/stream_executor/platform/default/dso_loader.cc:44] Successfully opened dynamic library libcuda.so.1\n",
      "2021-11-30 17:10:35.109863: I tensorflow/stream_executor/cuda/cuda_gpu_executor.cc:981] successful NUMA node read from SysFS had negative value (-1), but there must be at least one NUMA node, so returning NUMA node zero\n",
      "2021-11-30 17:10:35.110125: I tensorflow/core/common_runtime/gpu/gpu_device.cc:1561] Found device 0 with properties: \n",
      "pciBusID: 0000:01:00.0 name: GeForce RTX 2070 computeCapability: 7.5\n",
      "coreClock: 1.71GHz coreCount: 36 deviceMemorySize: 7.79GiB deviceMemoryBandwidth: 417.29GiB/s\n",
      "2021-11-30 17:10:35.110239: I tensorflow/stream_executor/platform/default/dso_loader.cc:44] Successfully opened dynamic library libcudart.so.10.1\n",
      "2021-11-30 17:10:35.111288: I tensorflow/stream_executor/platform/default/dso_loader.cc:44] Successfully opened dynamic library libcublas.so.10\n",
      "2021-11-30 17:10:35.112275: I tensorflow/stream_executor/platform/default/dso_loader.cc:44] Successfully opened dynamic library libcufft.so.10\n",
      "2021-11-30 17:10:35.112429: I tensorflow/stream_executor/platform/default/dso_loader.cc:44] Successfully opened dynamic library libcurand.so.10\n",
      "2021-11-30 17:10:35.113506: I tensorflow/stream_executor/platform/default/dso_loader.cc:44] Successfully opened dynamic library libcusolver.so.10\n",
      "2021-11-30 17:10:35.114124: I tensorflow/stream_executor/platform/default/dso_loader.cc:44] Successfully opened dynamic library libcusparse.so.10\n",
      "2021-11-30 17:10:35.116440: I tensorflow/stream_executor/platform/default/dso_loader.cc:44] Successfully opened dynamic library libcudnn.so.7\n",
      "2021-11-30 17:10:35.116515: I tensorflow/stream_executor/cuda/cuda_gpu_executor.cc:981] successful NUMA node read from SysFS had negative value (-1), but there must be at least one NUMA node, so returning NUMA node zero\n",
      "2021-11-30 17:10:35.116823: I tensorflow/stream_executor/cuda/cuda_gpu_executor.cc:981] successful NUMA node read from SysFS had negative value (-1), but there must be at least one NUMA node, so returning NUMA node zero\n",
      "2021-11-30 17:10:35.117059: I tensorflow/core/common_runtime/gpu/gpu_device.cc:1703] Adding visible gpu devices: 0\n"
     ]
    }
   ],
   "source": [
    "import tensorflow as tf\n",
    "physical_devices = tf.config.experimental.list_physical_devices('GPU')\n",
    "assert len(physical_devices) > 0, \"Not enough GPU hardware devices available\"\n",
    "config = tf.config.experimental.set_memory_growth(physical_devices[0], True)"
   ]
  },
  {
   "cell_type": "markdown",
   "id": "34ba0632",
   "metadata": {},
   "source": [
    "# Deep Deterministic Policy Gradient (DPG) Actor-Critic agents and How to Define Output layers\n",
    "\n",
    "Deep Deterministic Policy Gracient (DDPG) is an Actor-Critic algorithm that tries to extend the DQN agents to create an agent for solving problems with continuous actions. This agent consist of two neural networks: 1) the Actor network receives states and propose actions and 2) the Critic network recieves the states and the actions to calculate the advantage values A(s, a).\n",
    "\n",
    "Aditionally we will see how to define the output layers of each network when we use keras, since we let the library calculate it automatically until now."
   ]
  },
  {
   "cell_type": "code",
   "execution_count": 2,
   "id": "c38d504c",
   "metadata": {},
   "outputs": [
    {
     "name": "stderr",
     "output_type": "stream",
     "text": [
      "2021-11-30 17:10:35.128109: I tensorflow/core/platform/cpu_feature_guard.cc:143] Your CPU supports instructions that this TensorFlow binary was not compiled to use: SSE4.1 SSE4.2 AVX AVX2 FMA\n",
      "2021-11-30 17:10:35.132311: I tensorflow/core/platform/profile_utils/cpu_utils.cc:102] CPU Frequency: 3199980000 Hz\n",
      "2021-11-30 17:10:35.132613: I tensorflow/compiler/xla/service/service.cc:168] XLA service 0x55f725590260 initialized for platform Host (this does not guarantee that XLA will be used). Devices:\n",
      "2021-11-30 17:10:35.132626: I tensorflow/compiler/xla/service/service.cc:176]   StreamExecutor device (0): Host, Default Version\n",
      "2021-11-30 17:10:35.132766: I tensorflow/stream_executor/cuda/cuda_gpu_executor.cc:981] successful NUMA node read from SysFS had negative value (-1), but there must be at least one NUMA node, so returning NUMA node zero\n",
      "2021-11-30 17:10:35.133041: I tensorflow/core/common_runtime/gpu/gpu_device.cc:1561] Found device 0 with properties: \n",
      "pciBusID: 0000:01:00.0 name: GeForce RTX 2070 computeCapability: 7.5\n",
      "coreClock: 1.71GHz coreCount: 36 deviceMemorySize: 7.79GiB deviceMemoryBandwidth: 417.29GiB/s\n",
      "2021-11-30 17:10:35.133070: I tensorflow/stream_executor/platform/default/dso_loader.cc:44] Successfully opened dynamic library libcudart.so.10.1\n",
      "2021-11-30 17:10:35.133080: I tensorflow/stream_executor/platform/default/dso_loader.cc:44] Successfully opened dynamic library libcublas.so.10\n",
      "2021-11-30 17:10:35.133091: I tensorflow/stream_executor/platform/default/dso_loader.cc:44] Successfully opened dynamic library libcufft.so.10\n",
      "2021-11-30 17:10:35.133100: I tensorflow/stream_executor/platform/default/dso_loader.cc:44] Successfully opened dynamic library libcurand.so.10\n",
      "2021-11-30 17:10:35.133110: I tensorflow/stream_executor/platform/default/dso_loader.cc:44] Successfully opened dynamic library libcusolver.so.10\n",
      "2021-11-30 17:10:35.133120: I tensorflow/stream_executor/platform/default/dso_loader.cc:44] Successfully opened dynamic library libcusparse.so.10\n",
      "2021-11-30 17:10:35.133129: I tensorflow/stream_executor/platform/default/dso_loader.cc:44] Successfully opened dynamic library libcudnn.so.7\n",
      "2021-11-30 17:10:35.133170: I tensorflow/stream_executor/cuda/cuda_gpu_executor.cc:981] successful NUMA node read from SysFS had negative value (-1), but there must be at least one NUMA node, so returning NUMA node zero\n",
      "2021-11-30 17:10:35.133438: I tensorflow/stream_executor/cuda/cuda_gpu_executor.cc:981] successful NUMA node read from SysFS had negative value (-1), but there must be at least one NUMA node, so returning NUMA node zero\n",
      "2021-11-30 17:10:35.133684: I tensorflow/core/common_runtime/gpu/gpu_device.cc:1703] Adding visible gpu devices: 0\n",
      "2021-11-30 17:10:35.133706: I tensorflow/stream_executor/platform/default/dso_loader.cc:44] Successfully opened dynamic library libcudart.so.10.1\n",
      "2021-11-30 17:10:35.182912: I tensorflow/core/common_runtime/gpu/gpu_device.cc:1102] Device interconnect StreamExecutor with strength 1 edge matrix:\n",
      "2021-11-30 17:10:35.182929: I tensorflow/core/common_runtime/gpu/gpu_device.cc:1108]      0 \n",
      "2021-11-30 17:10:35.182933: I tensorflow/core/common_runtime/gpu/gpu_device.cc:1121] 0:   N \n",
      "2021-11-30 17:10:35.183051: I tensorflow/stream_executor/cuda/cuda_gpu_executor.cc:981] successful NUMA node read from SysFS had negative value (-1), but there must be at least one NUMA node, so returning NUMA node zero\n",
      "2021-11-30 17:10:35.183334: I tensorflow/stream_executor/cuda/cuda_gpu_executor.cc:981] successful NUMA node read from SysFS had negative value (-1), but there must be at least one NUMA node, so returning NUMA node zero\n",
      "2021-11-30 17:10:35.183591: I tensorflow/stream_executor/cuda/cuda_gpu_executor.cc:981] successful NUMA node read from SysFS had negative value (-1), but there must be at least one NUMA node, so returning NUMA node zero\n",
      "2021-11-30 17:10:35.183829: I tensorflow/core/common_runtime/gpu/gpu_device.cc:1247] Created TensorFlow device (/job:localhost/replica:0/task:0/device:GPU:0 with 5855 MB memory) -> physical GPU (device: 0, name: GeForce RTX 2070, pci bus id: 0000:01:00.0, compute capability: 7.5)\n",
      "2021-11-30 17:10:35.185017: I tensorflow/compiler/xla/service/service.cc:168] XLA service 0x55f726d0ef40 initialized for platform CUDA (this does not guarantee that XLA will be used). Devices:\n",
      "2021-11-30 17:10:35.185027: I tensorflow/compiler/xla/service/service.cc:176]   StreamExecutor device (0): GeForce RTX 2070, Compute Capability 7.5\n",
      "\n",
      "Bad key savefig.frameon in file /home/shernandez/anaconda3/envs/tf2py37/lib/python3.7/site-packages/matplotlib/mpl-data/stylelib/_classic_test.mplstyle, line 421 ('savefig.frameon : True')\n",
      "You probably need to get an updated matplotlibrc file from\n",
      "https://github.com/matplotlib/matplotlib/blob/v3.3.4/matplotlibrc.template\n",
      "or from the matplotlib source distribution\n",
      "\n",
      "Bad key verbose.level in file /home/shernandez/anaconda3/envs/tf2py37/lib/python3.7/site-packages/matplotlib/mpl-data/stylelib/_classic_test.mplstyle, line 472 ('verbose.level  : silent      # one of silent, helpful, debug, debug-annoying')\n",
      "You probably need to get an updated matplotlibrc file from\n",
      "https://github.com/matplotlib/matplotlib/blob/v3.3.4/matplotlibrc.template\n",
      "or from the matplotlib source distribution\n",
      "\n",
      "Bad key verbose.fileo in file /home/shernandez/anaconda3/envs/tf2py37/lib/python3.7/site-packages/matplotlib/mpl-data/stylelib/_classic_test.mplstyle, line 473 ('verbose.fileo  : sys.stdout  # a log filename, sys.stdout or sys.stderr')\n",
      "You probably need to get an updated matplotlibrc file from\n",
      "https://github.com/matplotlib/matplotlib/blob/v3.3.4/matplotlibrc.template\n",
      "or from the matplotlib source distribution\n",
      "In /home/shernandez/anaconda3/envs/tf2py37/lib/python3.7/site-packages/matplotlib/mpl-data/stylelib/_classic_test.mplstyle: \n",
      "The text.latex.preview rcparam was deprecated in Matplotlib 3.3 and will be removed two minor releases later.\n",
      "In /home/shernandez/anaconda3/envs/tf2py37/lib/python3.7/site-packages/matplotlib/mpl-data/stylelib/_classic_test.mplstyle: \n",
      "The mathtext.fallback_to_cm rcparam was deprecated in Matplotlib 3.3 and will be removed two minor releases later.\n",
      "In /home/shernandez/anaconda3/envs/tf2py37/lib/python3.7/site-packages/matplotlib/mpl-data/stylelib/_classic_test.mplstyle: Support for setting the 'mathtext.fallback_to_cm' rcParam is deprecated since 3.3 and will be removed two minor releases later; use 'mathtext.fallback : 'cm' instead.\n",
      "In /home/shernandez/anaconda3/envs/tf2py37/lib/python3.7/site-packages/matplotlib/mpl-data/stylelib/_classic_test.mplstyle: \n",
      "The validate_bool_maybe_none function was deprecated in Matplotlib 3.3 and will be removed two minor releases later.\n",
      "In /home/shernandez/anaconda3/envs/tf2py37/lib/python3.7/site-packages/matplotlib/mpl-data/stylelib/_classic_test.mplstyle: \n",
      "The savefig.jpeg_quality rcparam was deprecated in Matplotlib 3.3 and will be removed two minor releases later.\n",
      "In /home/shernandez/anaconda3/envs/tf2py37/lib/python3.7/site-packages/matplotlib/mpl-data/stylelib/_classic_test.mplstyle: \n",
      "The keymap.all_axes rcparam was deprecated in Matplotlib 3.3 and will be removed two minor releases later.\n",
      "In /home/shernandez/anaconda3/envs/tf2py37/lib/python3.7/site-packages/matplotlib/mpl-data/stylelib/_classic_test.mplstyle: \n",
      "The animation.avconv_path rcparam was deprecated in Matplotlib 3.3 and will be removed two minor releases later.\n",
      "In /home/shernandez/anaconda3/envs/tf2py37/lib/python3.7/site-packages/matplotlib/mpl-data/stylelib/_classic_test.mplstyle: \n",
      "The animation.avconv_args rcparam was deprecated in Matplotlib 3.3 and will be removed two minor releases later.\n"
     ]
    }
   ],
   "source": [
    "from RL_Problem import rl_problem\n",
    "from RL_Agent import ddpg_agent\n",
    "from RL_Agent.base.utils import agent_saver, history_utils\n",
    "from RL_Agent.base.utils.networks import networks\n",
    "from RL_Problem.base.ActorCritic import ddpg_problem\n",
    "from tensorflow.keras.layers import Dense, LSTM\n",
    "import gym"
   ]
  },
  {
   "cell_type": "markdown",
   "id": "1663b605",
   "metadata": {},
   "source": [
    "Here we are goin to define the neural network using keras. We created two functions, one for creating the actor network and aother for the critic network. When creating the critic network we have to take into acount that the network need two different inputs: 1) the state as usual in other agents. In this exmaple we stack 5 time steps and use as first layer an LSTM. And 2) the actions which consist of a array of 2 values because we have two actions in the selected environment.\n",
    "\n",
    "Notice that we also define an output layer, this allows the user to define for example their prefered activation, add a normalization in the output or even use a Lambda function to sample from a normal distribution."
   ]
  },
  {
   "cell_type": "code",
   "execution_count": 3,
   "id": "acc20816",
   "metadata": {},
   "outputs": [],
   "source": [
    "def actor_custom_model(input_shape):\n",
    "    lstm = LSTM(32, activation='tanh', input_shape=input_shape, name='lstm_c')\n",
    "    dense_1 = Dense(256, activation='relu')\n",
    "    dense_2 = Dense(128, activation='relu')\n",
    "    \n",
    "    # Output layer\n",
    "    output = Dense(2, activation='tanh')\n",
    "    \n",
    "    def model():\n",
    "        model = tf.keras.models.Sequential([lstm, dense_1, dense_2, output])\n",
    "        return model\n",
    "    return model()\n",
    "\n",
    "def critic_custom_model(input_shape, actor_net):\n",
    "    \n",
    "    lstm_s = LSTM(32, activation='tanh', input_shape=input_shape, name='lstm_state')\n",
    "    dense_s = Dense(256, activation='relu', name='dense_state')\n",
    "    \n",
    "    dense_a = Dense(128, activation='relu', input_shape=(actor_net.output.shape[1:]), name='dense_act')\n",
    "    \n",
    "    dense_c = Dense(128, activation='relu', name='dense_common')\n",
    "    output = Dense(1, activation='linear', name='output')\n",
    "    \n",
    "    def model():\n",
    "        \n",
    "        # state model\n",
    "        state_model = tf.keras.models.Sequential([lstm_s, dense_s])   \n",
    "        \n",
    "        # action model\n",
    "        act_model = tf.keras.models.Sequential([dense_a])\n",
    "        \n",
    "        # merge both models\n",
    "        merge = tf.keras.layers.Concatenate()([state_model.output, act_model.output])\n",
    "        merge = dense_c(merge)\n",
    "        \n",
    "        # Output layer\n",
    "        out = output(merge)\n",
    "        \n",
    "        model = tf.keras.models.Model(inputs=[state_model.input, act_model.input], outputs=out)\n",
    "        return model\n",
    "    return model()"
   ]
  },
  {
   "cell_type": "markdown",
   "id": "a2049fe5",
   "metadata": {},
   "source": [
    "In the next cell, we define the neural network using dictionaries. As we have especified the output layers for Actor and Critic we have to set to True the \"define_custom_output_layer\" to inform the agent of this fact. We also need to set to True the \"use_custom_network\" param."
   ]
  },
  {
   "cell_type": "code",
   "execution_count": 4,
   "id": "34eba5d9",
   "metadata": {},
   "outputs": [],
   "source": [
    "net_architecture = networks.ddpg_net(use_custom_network=True,\n",
    "                                     actor_custom_network=actor_custom_model,\n",
    "                                     critic_custom_network=critic_custom_model,\n",
    "                                     define_custom_output_layer=True)"
   ]
  },
  {
   "cell_type": "markdown",
   "id": "51ea1351",
   "metadata": {},
   "source": [
    "We build the actor-critic agent when we have two learning rates, one for each network."
   ]
  },
  {
   "cell_type": "code",
   "execution_count": 9,
   "id": "7675c9d5",
   "metadata": {},
   "outputs": [],
   "source": [
    "agent = ddpg_agent.Agent(actor_lr=1e-3,\n",
    "                         critic_lr=1e-3,\n",
    "                         batch_size=64,\n",
    "                         epsilon=0.5,\n",
    "                         epsilon_decay=0.9999,\n",
    "                         epsilon_min=0.15,\n",
    "                         net_architecture=net_architecture,\n",
    "                         n_stack=5)"
   ]
  },
  {
   "cell_type": "markdown",
   "id": "6b1f9d8c",
   "metadata": {},
   "source": [
    "Define the environment."
   ]
  },
  {
   "cell_type": "code",
   "execution_count": 10,
   "id": "699247de",
   "metadata": {},
   "outputs": [],
   "source": [
    "environment = \"LunarLanderContinuous-v2\"\n",
    "environment = gym.make(environment)"
   ]
  },
  {
   "cell_type": "markdown",
   "id": "9b63c949",
   "metadata": {},
   "source": [
    "Create the problem."
   ]
  },
  {
   "cell_type": "code",
   "execution_count": 11,
   "id": "3b7c9c66",
   "metadata": {},
   "outputs": [],
   "source": [
    "problem = ddpg_problem.DDPGPRoblem(environment, agent)"
   ]
  },
  {
   "cell_type": "markdown",
   "id": "044bb754",
   "metadata": {},
   "source": [
    "Solving the RL problem."
   ]
  },
  {
   "cell_type": "code",
   "execution_count": 12,
   "id": "ae1ba32e",
   "metadata": {},
   "outputs": [
    {
     "name": "stdout",
     "output_type": "stream",
     "text": [
      "Episode:  1 Epochs:  83  Reward: -208.4 Smooth Reward: -208.4  Epsilon: 0.5000\n",
      "Episode:  2 Epochs:  90  Reward: -309.9 Smooth Reward: -259.2  Epsilon: 0.5000\n",
      "Episode:  3 Epochs:  141  Reward: -498.3 Smooth Reward: -338.9  Epsilon: 0.5000\n",
      "Episode:  4 Epochs:  71  Reward: -69.8 Smooth Reward: -271.6  Epsilon: 0.4999\n",
      "Episode:  5 Epochs:  81  Reward: -741.8 Smooth Reward: -365.6  Epsilon: 0.4992\n",
      "Episode:  6 Epochs:  116  Reward: -1004.9 Smooth Reward: -472.2  Epsilon: 0.4982\n",
      "Episode:  7 Epochs:  58  Reward: -75.5 Smooth Reward: -415.5  Epsilon: 0.4977\n",
      "Episode:  8 Epochs:  68  Reward: -344.9 Smooth Reward: -406.7  Epsilon: 0.4971\n",
      "Episode:  9 Epochs:  68  Reward: -505.0 Smooth Reward: -417.6  Epsilon: 0.4965\n",
      "Episode:  10 Epochs:  71  Reward: -471.0 Smooth Reward: -423.0  Epsilon: 0.4959\n",
      "Episode:  11 Epochs:  54  Reward: -383.6 Smooth Reward: -440.5  Epsilon: 0.4955\n",
      "Episode:  12 Epochs:  76  Reward: -532.8 Smooth Reward: -462.8  Epsilon: 0.4948\n",
      "Episode:  13 Epochs:  68  Reward: -124.0 Smooth Reward: -425.3  Epsilon: 0.4942\n",
      "Episode:  14 Epochs:  62  Reward: -395.2 Smooth Reward: -457.9  Epsilon: 0.4937\n",
      "Episode:  15 Epochs:  51  Reward: -220.9 Smooth Reward: -405.8  Epsilon: 0.4932\n",
      "Episode:  16 Epochs:  54  Reward: -111.6 Smooth Reward: -316.5  Epsilon: 0.4928\n",
      "Episode:  17 Epochs:  59  Reward: -459.2 Smooth Reward: -354.8  Epsilon: 0.4923\n",
      "Episode:  18 Epochs:  120  Reward: -1078.5 Smooth Reward: -428.2  Epsilon: 0.4913\n",
      "Episode:  19 Epochs:  63  Reward: -356.1 Smooth Reward: -413.3  Epsilon: 0.4908\n",
      "Episode:  20 Epochs:  79  Reward: -480.3 Smooth Reward: -414.2  Epsilon: 0.4901\n",
      "Episode:  21 Epochs:  78  Reward: -581.0 Smooth Reward: -434.0  Epsilon: 0.4895\n",
      "Episode:  22 Epochs:  70  Reward: -427.3 Smooth Reward: -423.4  Epsilon: 0.4889\n",
      "Episode:  23 Epochs:  77  Reward: -497.2 Smooth Reward: -460.7  Epsilon: 0.4882\n",
      "Episode:  24 Epochs:  97  Reward: -767.5 Smooth Reward: -498.0  Epsilon: 0.4874\n",
      "Episode:  25 Epochs:  62  Reward: -380.3 Smooth Reward: -513.9  Epsilon: 0.4869\n",
      "Episode:  26 Epochs:  64  Reward: -480.4 Smooth Reward: -550.8  Epsilon: 0.4863\n",
      "Episode:  27 Epochs:  81  Reward: -547.4 Smooth Reward: -559.6  Epsilon: 0.4857\n",
      "Episode:  28 Epochs:  61  Reward: -342.9 Smooth Reward: -486.0  Epsilon: 0.4851\n",
      "Episode:  29 Epochs:  63  Reward: -438.7 Smooth Reward: -494.3  Epsilon: 0.4846\n",
      "Episode:  30 Epochs:  96  Reward: -668.1 Smooth Reward: -513.1  Epsilon: 0.4838\n",
      "Episode:  31 Epochs:  82  Reward: -697.8 Smooth Reward: -524.8  Epsilon: 0.4831\n",
      "Episode:  32 Epochs:  85  Reward: -527.3 Smooth Reward: -534.7  Epsilon: 0.4824\n",
      "Episode:  33 Epochs:  71  Reward: -363.9 Smooth Reward: -521.4  Epsilon: 0.4818\n",
      "Episode:  34 Epochs:  57  Reward: -158.1 Smooth Reward: -460.5  Epsilon: 0.4814\n",
      "Episode:  35 Epochs:  87  Reward: -585.6 Smooth Reward: -481.0  Epsilon: 0.4806\n",
      "Episode:  36 Epochs:  69  Reward: -424.8 Smooth Reward: -475.5  Epsilon: 0.4801\n",
      "Episode:  37 Epochs:  61  Reward: -257.5 Smooth Reward: -446.5  Epsilon: 0.4795\n",
      "Episode:  38 Epochs:  88  Reward: -518.5 Smooth Reward: -464.0  Epsilon: 0.4788\n",
      "Episode:  39 Epochs:  79  Reward: -641.5 Smooth Reward: -484.3  Epsilon: 0.4781\n",
      "Episode:  40 Epochs:  61  Reward: -406.4 Smooth Reward: -458.1  Epsilon: 0.4776\n",
      "Episode:  41 Epochs:  90  Reward: -473.6 Smooth Reward: -435.7  Epsilon: 0.4769\n",
      "Episode:  42 Epochs:  64  Reward: -469.6 Smooth Reward: -430.0  Epsilon: 0.4764\n",
      "Episode:  43 Epochs:  93  Reward: -622.0 Smooth Reward: -455.8  Epsilon: 0.4756\n",
      "Episode:  44 Epochs:  70  Reward: -372.1 Smooth Reward: -477.2  Epsilon: 0.4750\n",
      "Episode:  45 Epochs:  102  Reward: -773.4 Smooth Reward: -495.9  Epsilon: 0.4742\n",
      "Episode:  46 Epochs:  68  Reward: -449.4 Smooth Reward: -498.4  Epsilon: 0.4737\n",
      "Episode:  47 Epochs:  68  Reward: -480.0 Smooth Reward: -520.6  Epsilon: 0.4731\n",
      "Episode:  48 Epochs:  84  Reward: -508.1 Smooth Reward: -519.6  Epsilon: 0.4724\n",
      "Episode:  49 Epochs:  104  Reward: -763.2 Smooth Reward: -531.8  Epsilon: 0.4716\n",
      "Episode:  50 Epochs:  165  Reward: -668.6 Smooth Reward: -558.0  Epsilon: 0.4703\n",
      "Episode:  51 Epochs:  73  Reward: -536.1 Smooth Reward: -564.2  Epsilon: 0.4697\n",
      "Episode:  52 Epochs:  71  Reward: -602.8 Smooth Reward: -577.5  Epsilon: 0.4691\n",
      "Episode:  53 Epochs:  62  Reward: -234.4 Smooth Reward: -538.8  Epsilon: 0.4686\n",
      "Episode:  54 Epochs:  64  Reward: -479.2 Smooth Reward: -549.5  Epsilon: 0.4681\n",
      "Episode:  55 Epochs:  67  Reward: -528.3 Smooth Reward: -525.0  Epsilon: 0.4675\n",
      "Episode:  56 Epochs:  59  Reward: -398.0 Smooth Reward: -519.9  Epsilon: 0.4670\n",
      "Episode:  57 Epochs:  100  Reward: -379.0 Smooth Reward: -509.8  Epsilon: 0.4662\n",
      "Episode:  58 Epochs:  59  Reward: -140.7 Smooth Reward: -473.0  Epsilon: 0.4658\n",
      "Episode:  59 Epochs:  70  Reward: -329.8 Smooth Reward: -429.7  Epsilon: 0.4652\n",
      "Episode:  60 Epochs:  98  Reward: -854.0 Smooth Reward: -448.2  Epsilon: 0.4644\n",
      "Episode:  61 Epochs:  73  Reward: -549.1 Smooth Reward: -449.5  Epsilon: 0.4638\n",
      "Episode:  62 Epochs:  60  Reward: -97.5 Smooth Reward: -399.0  Epsilon: 0.4634\n",
      "Episode:  63 Epochs:  105  Reward: -1087.0 Smooth Reward: -484.2  Epsilon: 0.4625\n",
      "Episode:  64 Epochs:  64  Reward: -373.3 Smooth Reward: -473.7  Epsilon: 0.4620\n",
      "Episode:  65 Epochs:  95  Reward: -750.1 Smooth Reward: -495.8  Epsilon: 0.4613\n",
      "Episode:  66 Epochs:  101  Reward: -865.9 Smooth Reward: -542.6  Epsilon: 0.4605\n",
      "Episode:  67 Epochs:  75  Reward: -482.5 Smooth Reward: -553.0  Epsilon: 0.4599\n",
      "Episode:  68 Epochs:  76  Reward: -502.9 Smooth Reward: -589.2  Epsilon: 0.4593\n",
      "Episode:  69 Epochs:  66  Reward: -412.2 Smooth Reward: -597.4  Epsilon: 0.4588\n",
      "Episode:  70 Epochs:  69  Reward: -289.1 Smooth Reward: -541.0  Epsilon: 0.4582\n",
      "Episode:  71 Epochs:  97  Reward: -717.4 Smooth Reward: -557.8  Epsilon: 0.4575\n",
      "Episode:  72 Epochs:  77  Reward: -580.0 Smooth Reward: -606.0  Epsilon: 0.4569\n",
      "Episode:  73 Epochs:  96  Reward: -1049.5 Smooth Reward: -602.3  Epsilon: 0.4561\n",
      "Episode:  74 Epochs:  62  Reward: -229.6 Smooth Reward: -587.9  Epsilon: 0.4556\n",
      "Episode:  75 Epochs:  81  Reward: -375.1 Smooth Reward: -550.4  Epsilon: 0.4550\n",
      "Episode:  76 Epochs:  52  Reward: -246.9 Smooth Reward: -488.5  Epsilon: 0.4546\n",
      "Episode:  77 Epochs:  90  Reward: -798.7 Smooth Reward: -520.1  Epsilon: 0.4539\n",
      "Episode:  78 Epochs:  83  Reward: -643.9 Smooth Reward: -534.2  Epsilon: 0.4533\n",
      "Episode:  79 Epochs:  69  Reward: -665.0 Smooth Reward: -559.5  Epsilon: 0.4527\n",
      "Episode:  80 Epochs:  54  Reward: -95.7 Smooth Reward: -540.2  Epsilon: 0.4523\n",
      "Episode:  81 Epochs:  105  Reward: -1051.7 Smooth Reward: -573.6  Epsilon: 0.4515\n",
      "Episode:  82 Epochs:  78  Reward: -776.5 Smooth Reward: -593.2  Epsilon: 0.4509\n",
      "Episode:  83 Epochs:  88  Reward: -529.7 Smooth Reward: -541.3  Epsilon: 0.4502\n",
      "Episode:  84 Epochs:  69  Reward: -545.5 Smooth Reward: -572.9  Epsilon: 0.4497\n",
      "Episode:  85 Epochs:  91  Reward: -549.1 Smooth Reward: -590.3  Epsilon: 0.4490\n",
      "Episode:  86 Epochs:  74  Reward: -272.0 Smooth Reward: -592.8  Epsilon: 0.4484\n",
      "Episode:  87 Epochs:  100  Reward: -509.8 Smooth Reward: -563.9  Epsilon: 0.4476\n",
      "Episode:  88 Epochs:  90  Reward: -868.0 Smooth Reward: -586.3  Epsilon: 0.4470\n",
      "Episode:  89 Epochs:  76  Reward: -740.4 Smooth Reward: -593.8  Epsilon: 0.4464\n",
      "Episode:  90 Epochs:  68  Reward: -573.0 Smooth Reward: -641.6  Epsilon: 0.4459\n",
      "Episode:  91 Epochs:  90  Reward: -434.7 Smooth Reward: -579.9  Epsilon: 0.4452\n",
      "Episode:  92 Epochs:  109  Reward: -638.6 Smooth Reward: -566.1  Epsilon: 0.4443\n",
      "Episode:  93 Epochs:  87  Reward: -757.2 Smooth Reward: -588.8  Epsilon: 0.4437\n",
      "Episode:  94 Epochs:  77  Reward: -365.0 Smooth Reward: -570.8  Epsilon: 0.4431\n",
      "Episode:  95 Epochs:  73  Reward: -671.5 Smooth Reward: -583.0  Epsilon: 0.4425\n",
      "Episode:  96 Epochs:  88  Reward: -615.6 Smooth Reward: -617.4  Epsilon: 0.4419\n",
      "Episode:  97 Epochs:  93  Reward: -564.0 Smooth Reward: -622.8  Epsilon: 0.4412\n",
      "Episode:  98 Epochs:  98  Reward: -671.7 Smooth Reward: -603.2  Epsilon: 0.4404\n",
      "Episode:  99 Epochs:  109  Reward: -1001.7 Smooth Reward: -629.3  Epsilon: 0.4396\n",
      "Episode:  100 Epochs:  74  Reward: -549.3 Smooth Reward: -626.9  Epsilon: 0.4390\n",
      "Episode:  101 Epochs:  79  Reward: -413.6 Smooth Reward: -624.8  Epsilon: 0.4384\n",
      "Episode:  102 Epochs:  110  Reward: -946.0 Smooth Reward: -655.6  Epsilon: 0.4376\n",
      "Episode:  103 Epochs:  56  Reward: -270.0 Smooth Reward: -606.8  Epsilon: 0.4371\n",
      "Episode:  104 Epochs:  80  Reward: -655.2 Smooth Reward: -635.9  Epsilon: 0.4365\n"
     ]
    },
    {
     "name": "stdout",
     "output_type": "stream",
     "text": [
      "Episode:  105 Epochs:  58  Reward: -224.4 Smooth Reward: -591.2  Epsilon: 0.4361\n",
      "Episode:  106 Epochs:  78  Reward: -546.0 Smooth Reward: -584.2  Epsilon: 0.4355\n",
      "Episode:  107 Epochs:  107  Reward: -816.2 Smooth Reward: -609.4  Epsilon: 0.4347\n",
      "Episode:  108 Epochs:  84  Reward: -569.7 Smooth Reward: -599.2  Epsilon: 0.4341\n",
      "Episode:  109 Epochs:  64  Reward: -687.2 Smooth Reward: -567.8  Epsilon: 0.4336\n",
      "Episode:  110 Epochs:  72  Reward: -624.9 Smooth Reward: -575.3  Epsilon: 0.4331\n",
      "Episode:  111 Epochs:  88  Reward: -884.4 Smooth Reward: -622.4  Epsilon: 0.4325\n",
      "Episode:  112 Epochs:  99  Reward: -869.8 Smooth Reward: -614.8  Epsilon: 0.4317\n",
      "Episode:  113 Epochs:  88  Reward: -573.6 Smooth Reward: -645.1  Epsilon: 0.4311\n",
      "Episode:  114 Epochs:  102  Reward: -460.1 Smooth Reward: -625.6  Epsilon: 0.4304\n",
      "Episode:  115 Epochs:  91  Reward: -819.4 Smooth Reward: -685.1  Epsilon: 0.4297\n",
      "Episode:  116 Epochs:  87  Reward: -757.5 Smooth Reward: -706.3  Epsilon: 0.4290\n",
      "Episode:  117 Epochs:  71  Reward: -751.5 Smooth Reward: -699.8  Epsilon: 0.4285\n",
      "Episode:  118 Epochs:  94  Reward: -796.0 Smooth Reward: -722.4  Epsilon: 0.4278\n",
      "Episode:  119 Epochs:  81  Reward: -714.9 Smooth Reward: -725.2  Epsilon: 0.4272\n",
      "Episode:  120 Epochs:  78  Reward: -399.1 Smooth Reward: -702.6  Epsilon: 0.4267\n",
      "Episode:  121 Epochs:  83  Reward: -534.9 Smooth Reward: -667.7  Epsilon: 0.4261\n",
      "Episode:  122 Epochs:  87  Reward: -476.1 Smooth Reward: -628.3  Epsilon: 0.4254\n",
      "Episode:  123 Epochs:  66  Reward: -293.3 Smooth Reward: -600.3  Epsilon: 0.4250\n",
      "Episode:  124 Epochs:  72  Reward: -327.4 Smooth Reward: -587.0  Epsilon: 0.4245\n",
      "Episode:  125 Epochs:  61  Reward: -194.5 Smooth Reward: -524.5  Epsilon: 0.4240\n",
      "Episode:  126 Epochs:  76  Reward: -715.1 Smooth Reward: -520.3  Epsilon: 0.4234\n",
      "Episode:  127 Epochs:  89  Reward: -857.1 Smooth Reward: -530.8  Epsilon: 0.4228\n",
      "Episode:  128 Epochs:  73  Reward: -721.8 Smooth Reward: -523.4  Epsilon: 0.4223\n",
      "Episode:  129 Epochs:  111  Reward: -1405.1 Smooth Reward: -592.4  Epsilon: 0.4214\n",
      "Episode:  130 Epochs:  80  Reward: -447.2 Smooth Reward: -597.2  Epsilon: 0.4209\n",
      "Episode:  131 Epochs:  85  Reward: -696.7 Smooth Reward: -613.4  Epsilon: 0.4202\n",
      "Episode:  132 Epochs:  67  Reward: -728.9 Smooth Reward: -638.7  Epsilon: 0.4197\n",
      "Episode:  133 Epochs:  65  Reward: -604.1 Smooth Reward: -669.8  Epsilon: 0.4193\n",
      "Episode:  134 Epochs:  73  Reward: -703.9 Smooth Reward: -707.4  Epsilon: 0.4187\n",
      "Episode:  135 Epochs:  77  Reward: -662.5 Smooth Reward: -754.2  Epsilon: 0.4182\n",
      "Episode:  136 Epochs:  56  Reward: -393.6 Smooth Reward: -722.1  Epsilon: 0.4178\n",
      "Episode:  137 Epochs:  83  Reward: -786.0 Smooth Reward: -715.0  Epsilon: 0.4172\n",
      "Episode:  138 Epochs:  74  Reward: -736.6 Smooth Reward: -716.5  Epsilon: 0.4166\n",
      "Episode:  139 Epochs:  61  Reward: -669.6 Smooth Reward: -642.9  Epsilon: 0.4162\n",
      "Episode:  140 Epochs:  81  Reward: -616.8 Smooth Reward: -659.9  Epsilon: 0.4156\n",
      "Episode:  141 Epochs:  77  Reward: -786.8 Smooth Reward: -668.9  Epsilon: 0.4150\n",
      "Episode:  142 Epochs:  69  Reward: -738.4 Smooth Reward: -669.8  Epsilon: 0.4146\n",
      "Episode:  143 Epochs:  77  Reward: -416.1 Smooth Reward: -651.0  Epsilon: 0.4140\n",
      "Episode:  144 Epochs:  107  Reward: -1108.2 Smooth Reward: -691.5  Epsilon: 0.4133\n",
      "Episode:  145 Epochs:  85  Reward: -1004.2 Smooth Reward: -725.6  Epsilon: 0.4126\n",
      "Episode:  146 Epochs:  99  Reward: -887.1 Smooth Reward: -775.0  Epsilon: 0.4119\n",
      "Episode:  147 Epochs:  55  Reward: -159.8 Smooth Reward: -712.4  Epsilon: 0.4115\n",
      "Episode:  148 Epochs:  68  Reward: -341.7 Smooth Reward: -672.9  Epsilon: 0.4110\n",
      "Episode:  149 Epochs:  85  Reward: -472.8 Smooth Reward: -653.2  Epsilon: 0.4104\n",
      "Episode:  150 Epochs:  53  Reward: -391.9 Smooth Reward: -630.7  Epsilon: 0.4101\n",
      "Episode:  151 Epochs:  52  Reward: -233.6 Smooth Reward: -575.4  Epsilon: 0.4097\n",
      "Episode:  152 Epochs:  81  Reward: -529.6 Smooth Reward: -554.5  Epsilon: 0.4091\n",
      "Episode:  153 Epochs:  78  Reward: -316.1 Smooth Reward: -544.5  Epsilon: 0.4086\n",
      "Episode:  154 Epochs:  67  Reward: -635.3 Smooth Reward: -497.2  Epsilon: 0.4081\n",
      "Episode:  155 Epochs:  62  Reward: 2.6 Smooth Reward: -396.6  Epsilon: 0.4076\n",
      "Episode:  156 Epochs:  62  Reward: -637.7 Smooth Reward: -371.6  Epsilon: 0.4072\n",
      "Episode:  157 Epochs:  62  Reward: -194.0 Smooth Reward: -375.0  Epsilon: 0.4067\n",
      "Episode:  158 Epochs:  60  Reward: -500.1 Smooth Reward: -390.9  Epsilon: 0.4063\n",
      "Episode:  159 Epochs:  89  Reward: -734.4 Smooth Reward: -417.0  Epsilon: 0.4057\n",
      "Episode:  160 Epochs:  63  Reward: -525.1 Smooth Reward: -430.3  Epsilon: 0.4053\n",
      "Episode:  161 Epochs:  89  Reward: -670.4 Smooth Reward: -474.0  Epsilon: 0.4047\n",
      "Episode:  162 Epochs:  71  Reward: -546.9 Smooth Reward: -475.7  Epsilon: 0.4042\n",
      "Episode:  163 Epochs:  65  Reward: -197.8 Smooth Reward: -463.9  Epsilon: 0.4038\n",
      "Episode:  164 Epochs:  60  Reward: -634.9 Smooth Reward: -463.9  Epsilon: 0.4033\n",
      "Episode:  165 Epochs:  56  Reward: -137.4 Smooth Reward: -477.9  Epsilon: 0.4029\n",
      "Episode:  166 Epochs:  103  Reward: -876.6 Smooth Reward: -501.8  Epsilon: 0.4022\n",
      "Episode:  167 Epochs:  60  Reward: -370.6 Smooth Reward: -519.4  Epsilon: 0.4018\n",
      "Episode:  168 Epochs:  64  Reward: -352.3 Smooth Reward: -504.6  Epsilon: 0.4014\n",
      "Episode:  169 Epochs:  55  Reward: -249.7 Smooth Reward: -456.2  Epsilon: 0.4010\n",
      "Episode:  170 Epochs:  77  Reward: -463.3 Smooth Reward: -450.0  Epsilon: 0.4005\n",
      "Episode:  171 Epochs:  92  Reward: -746.2 Smooth Reward: -457.5  Epsilon: 0.3998\n",
      "Episode:  172 Epochs:  60  Reward: -278.5 Smooth Reward: -430.7  Epsilon: 0.3994\n",
      "Episode:  173 Epochs:  69  Reward: -756.4 Smooth Reward: -486.6  Epsilon: 0.3989\n",
      "Episode:  174 Epochs:  79  Reward: -500.8 Smooth Reward: -473.2  Epsilon: 0.3984\n",
      "Episode:  175 Epochs:  68  Reward: -460.3 Smooth Reward: -505.5  Epsilon: 0.3979\n",
      "Episode:  176 Epochs:  82  Reward: -663.9 Smooth Reward: -484.2  Epsilon: 0.3973\n",
      "Episode:  177 Epochs:  103  Reward: -1112.0 Smooth Reward: -558.3  Epsilon: 0.3966\n",
      "Episode:  178 Epochs:  81  Reward: -594.2 Smooth Reward: -582.5  Epsilon: 0.3961\n",
      "Episode:  179 Epochs:  76  Reward: -808.6 Smooth Reward: -638.4  Epsilon: 0.3956\n",
      "Episode:  180 Epochs:  60  Reward: -294.4 Smooth Reward: -621.5  Epsilon: 0.3952\n",
      "Episode:  181 Epochs:  97  Reward: -640.1 Smooth Reward: -610.9  Epsilon: 0.3945\n",
      "Episode:  182 Epochs:  83  Reward: -526.3 Smooth Reward: -635.7  Epsilon: 0.3939\n",
      "Episode:  183 Epochs:  76  Reward: -761.2 Smooth Reward: -636.2  Epsilon: 0.3934\n",
      "Episode:  184 Epochs:  68  Reward: -353.6 Smooth Reward: -621.5  Epsilon: 0.3930\n",
      "Episode:  185 Epochs:  86  Reward: -436.0 Smooth Reward: -619.0  Epsilon: 0.3924\n",
      "Episode:  186 Epochs:  91  Reward: -870.0 Smooth Reward: -639.7  Epsilon: 0.3917\n",
      "Episode:  187 Epochs:  86  Reward: -465.2 Smooth Reward: -575.0  Epsilon: 0.3912\n",
      "Episode:  188 Epochs:  73  Reward: -757.9 Smooth Reward: -591.3  Epsilon: 0.3906\n",
      "Episode:  189 Epochs:  76  Reward: -757.0 Smooth Reward: -586.2  Epsilon: 0.3901\n",
      "Episode:  190 Epochs:  67  Reward: -387.2 Smooth Reward: -595.5  Epsilon: 0.3897\n",
      "Episode:  191 Epochs:  103  Reward: -924.5 Smooth Reward: -623.9  Epsilon: 0.3890\n",
      "Episode:  192 Epochs:  89  Reward: -840.9 Smooth Reward: -655.3  Epsilon: 0.3884\n",
      "Episode:  193 Epochs:  97  Reward: -773.2 Smooth Reward: -656.5  Epsilon: 0.3877\n",
      "Episode:  194 Epochs:  81  Reward: -752.3 Smooth Reward: -696.4  Epsilon: 0.3872\n",
      "Episode:  195 Epochs:  65  Reward: -587.9 Smooth Reward: -711.6  Epsilon: 0.3868\n",
      "Episode:  196 Epochs:  70  Reward: -615.4 Smooth Reward: -686.1  Epsilon: 0.3863\n",
      "Episode:  197 Epochs:  83  Reward: -547.9 Smooth Reward: -694.4  Epsilon: 0.3858\n",
      "Episode:  198 Epochs:  68  Reward: -661.3 Smooth Reward: -684.8  Epsilon: 0.3853\n",
      "Episode:  199 Epochs:  67  Reward: -503.8 Smooth Reward: -659.4  Epsilon: 0.3848\n",
      "Episode:  200 Epochs:  75  Reward: -448.8 Smooth Reward: -665.6  Epsilon: 0.3843\n"
     ]
    }
   ],
   "source": [
    "problem.solve(200, render=False, max_step_epi=200, render_after=150, skip_states=6)\n"
   ]
  },
  {
   "cell_type": "markdown",
   "id": "56ccd174",
   "metadata": {},
   "source": [
    "Run the agent in test mode to see the final performance"
   ]
  },
  {
   "cell_type": "code",
   "execution_count": 13,
   "id": "a01715cf",
   "metadata": {},
   "outputs": [
    {
     "name": "stdout",
     "output_type": "stream",
     "text": [
      "Test episode:  1 Epochs:  68  Reward: -746.7 Smooth Reward: -746.7  Epsilon: 0.3843\n",
      "Test episode:  2 Epochs:  57  Reward: -531.1 Smooth Reward: -638.9  Epsilon: 0.3843\n",
      "Test episode:  3 Epochs:  84  Reward: -676.6 Smooth Reward: -651.4  Epsilon: 0.3843\n",
      "Test episode:  4 Epochs:  50  Reward: -376.3 Smooth Reward: -582.7  Epsilon: 0.3843\n",
      "Test episode:  5 Epochs:  57  Reward: -603.4 Smooth Reward: -586.8  Epsilon: 0.3843\n"
     ]
    }
   ],
   "source": [
    "problem.test(render=True, n_iter=5)\n"
   ]
  },
  {
   "cell_type": "code",
   "execution_count": 14,
   "id": "717ffd36",
   "metadata": {},
   "outputs": [
    {
     "data": {
      "image/png": "[encoded data removed]",
      "text/plain": [
       "<Figure size 432x288 with 1 Axes>"
      ]
     },
     "metadata": {
      "needs_background": "light"
     },
     "output_type": "display_data"
    }
   ],
   "source": [
    "hist = problem.get_histogram_metrics()\n",
    "history_utils.plot_reward_hist(hist, 10)"
   ]
  },
  {
   "cell_type": "code",
   "execution_count": null,
   "id": "562a483d",
   "metadata": {},
   "outputs": [],
   "source": []
  }
 ],
 "metadata": {
  "kernelspec": {
   "display_name": "Python 3 (ipykernel)",
   "language": "python",
   "name": "python3"
  },
  "language_info": {
   "codemirror_mode": {
    "name": "ipython",
    "version": 3
   },
   "file_extension": ".py",
   "mimetype": "text/x-python",
   "name": "python",
   "nbconvert_exporter": "python",
   "pygments_lexer": "ipython3",
   "version": "3.7.10"
  }
 },
 "nbformat": 4,
 "nbformat_minor": 5
}
